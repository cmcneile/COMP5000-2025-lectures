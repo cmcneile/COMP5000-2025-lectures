{
 "cells": [
  {
   "cell_type": "markdown",
   "id": "1832d00b",
   "metadata": {
    "slideshow": {
     "slide_type": "slide"
    }
   },
   "source": [
    "# Python examples in lecture 1 B\n",
    "* This file is a jupyter notebook. To run it you can download it from the DLE and run it on your own machine.\n",
    "* Or you can run it on google collab <https://colab.research.google.com> via your google account. This may be slower than running on your own machine\n"
   ]
  },
  {
   "cell_type": "markdown",
   "id": "7dc09e9d",
   "metadata": {
    "slideshow": {
     "slide_type": "slide"
    }
   },
   "source": [
    "### Introduction to strings\n",
    "\n",
    "* Strings are a type of variable that can store words and characters.\n",
    "* Data science project that work with text require the use of strings.\n",
    "* The characters in a string are between single or double quotation marks.\n",
    "* There are functions that work on strings, such as **len()**\n"
   ]
  },
  {
   "cell_type": "code",
   "execution_count": 1,
   "id": "4fa51f58",
   "metadata": {},
   "outputs": [
    {
     "name": "stdout",
     "output_type": "stream",
     "text": [
      "Length of text =  6\n"
     ]
    }
   ],
   "source": [
    "text = \"hello2\"\n",
    "print(\"Length of text = \", len(text) )"
   ]
  },
  {
   "cell_type": "markdown",
   "id": "9de405db",
   "metadata": {},
   "source": [
    "The reason for 5 is that there are 5 letters in \"hello\"\n",
    "Strings are useful for working with text data."
   ]
  },
  {
   "cell_type": "markdown",
   "id": "23b7496f",
   "metadata": {
    "slideshow": {
     "slide_type": "slide"
    }
   },
   "source": [
    "###  Basic example of string manipulation  \n",
    "\n",
    "* Python has excellent string processing tools.\n",
    "* See https://greenteapress.com/thinkpython2/html/thinkpython2009.html from the book Think Python\n",
    "* The example shows how to combine two strings"
   ]
  },
  {
   "cell_type": "code",
   "execution_count": 2,
   "id": "535359b3",
   "metadata": {},
   "outputs": [
    {
     "name": "stdout",
     "output_type": "stream",
     "text": [
      "Hello  World \n"
     ]
    }
   ],
   "source": [
    "one = \"Hello \"\n",
    "two = \"World \"\n",
    "three = one + \" \" + two\n",
    "print (three)"
   ]
  },
  {
   "cell_type": "markdown",
   "id": "dd2e3182",
   "metadata": {
    "slideshow": {
     "slide_type": "slide"
    }
   },
   "source": [
    "##  More advanced manuplations of strings\n",
    "* Strings are a class, so there are additional ways to manipulate strings. https://www.w3schools.com/python/python_ref_string.asp\n",
    "* For example **.upper()** is known as a method. It converts a\n",
    "string to uppercase."
   ]
  },
  {
   "cell_type": "code",
   "execution_count": 3,
   "id": "49999852",
   "metadata": {},
   "outputs": [
    {
     "name": "stdout",
     "output_type": "stream",
     "text": [
      "Hello World\n",
      "HELLO WORLD\n"
     ]
    }
   ],
   "source": [
    "x = \"Hello World\"\n",
    "print(x)\n",
    "print(x.upper())"
   ]
  },
  {
   "cell_type": "markdown",
   "id": "44aca667",
   "metadata": {},
   "source": [
    "* There are many possible options for changing a string\n",
    "* You need to look at the documentation, or Google search, or cheat sheet, or AI "
   ]
  },
  {
   "cell_type": "markdown",
   "id": "3743614d",
   "metadata": {
    "slideshow": {
     "slide_type": "slide"
    }
   },
   "source": [
    "##  Breaking up strings\n",
    "* It is easy to break down a string in terms of characters.\n",
    "* There are better ways to look inside strings"
   ]
  },
  {
   "cell_type": "code",
   "execution_count": 4,
   "id": "6eebed2f",
   "metadata": {},
   "outputs": [
    {
     "name": "stdout",
     "output_type": "stream",
     "text": [
      "AbC\n",
      "A\n"
     ]
    }
   ],
   "source": [
    "x = \"AbC\"\n",
    "print (x)\n",
    "print (x[0])\n",
    "#print (x[1])\n",
    "#print (x[2])"
   ]
  },
  {
   "cell_type": "markdown",
   "id": "6e360741",
   "metadata": {
    "slideshow": {
     "slide_type": "slide"
    }
   },
   "source": [
    "## More sophisticated analysis of strings\n",
    "* It is easy to break down a string in terms of words. \n",
    "* This is the basis of the analysis of text using python."
   ]
  },
  {
   "cell_type": "code",
   "execution_count": 5,
   "id": "fa66c082",
   "metadata": {},
   "outputs": [
    {
     "name": "stdout",
     "output_type": "stream",
     "text": [
      "['The', 'red', 'owl']\n",
      "red\n",
      "The\n",
      "red\n",
      "owl\n"
     ]
    }
   ],
   "source": [
    "text = \"The red owl\"\n",
    "ans = text.split()\n",
    "print(ans)\n",
    "print(ans[1])\n",
    "for x in ans:\n",
    "    print (x)"
   ]
  },
  {
   "cell_type": "markdown",
   "id": "84737f8c",
   "metadata": {
    "slideshow": {
     "slide_type": "slide"
    }
   },
   "source": [
    "## Review of lists\n",
    "\n",
    "* A list allows us to store a collection of variables\n",
    "* The access to parts of a list uses a numerical index with a square bracket."
   ]
  },
  {
   "cell_type": "code",
   "execution_count": 6,
   "id": "8cfba5df",
   "metadata": {},
   "outputs": [
    {
     "name": "stdout",
     "output_type": "stream",
     "text": [
      "100\n"
     ]
    }
   ],
   "source": [
    "\n",
    "\n",
    "store = [100, 105, 46] \n",
    "print( store[0] )\n"
   ]
  },
  {
   "cell_type": "markdown",
   "id": "a4b0e27c",
   "metadata": {
    "slideshow": {
     "slide_type": "slide"
    }
   },
   "source": [
    "## Introduction to dictionaries\n",
    "* Sometimes it is more convenient to use say text strings to \"index a list\". \n",
    "* More information on dictionaries at https://www.w3schools.com/python/python_dictionaries.asp\n",
    "* See the chapter https://greenteapress.com/thinkpython2/html/thinkpython2012.html in the book Think Python\n"
   ]
  },
  {
   "cell_type": "markdown",
   "id": "26ee5cae",
   "metadata": {
    "slideshow": {
     "slide_type": "slide"
    }
   },
   "source": [
    "## Example of the use of dictionary data structure \n",
    "\n",
    "In the example below we want to record the coursework marks of students.\n",
    "\n",
    "* The **dict()** notation tells Python that a variable is a dictionary\n",
    "* Or you can **{}** to tell python that a variable is a dictionary"
   ]
  },
  {
   "cell_type": "code",
   "execution_count": 5,
   "id": "a49be3db-1745-4e1f-aa5a-e1a24492d189",
   "metadata": {},
   "outputs": [
    {
     "name": "stdout",
     "output_type": "stream",
     "text": [
      "My marks =  75\n"
     ]
    }
   ],
   "source": [
    "marks = dict()\n",
    "\n",
    "marks[\"Craig\"] = 65\n",
    "marks[\"Vincent\"] = 75\n",
    "\n",
    "print(\"My marks = \", marks[\"Vincent\"] )\n",
    "\n"
   ]
  },
  {
   "cell_type": "markdown",
   "id": "6f96074e-8b90-4abe-8dbf-fbf5599082be",
   "metadata": {
    "slideshow": {
     "slide_type": "slide"
    }
   },
   "source": [
    "## Example of a dictionary\n",
    "* Sometimes it is more convenient to use say text strings to \"index a list\". \n",
    "* In the example below of the country with economic GDP value. \n",
    "* The country name is used to reference the GDP value."
   ]
  },
  {
   "cell_type": "code",
   "execution_count": 3,
   "id": "5b0193fa",
   "metadata": {},
   "outputs": [
    {
     "name": "stdout",
     "output_type": "stream",
     "text": [
      "USA 18558130\n",
      "Japan 4412600\n"
     ]
    }
   ],
   "source": [
    "\n",
    "gdp  = {'United States': '18558130', \n",
    "        'China': 11383030, 'Japan': '4412600'}\n",
    "\n",
    "print (\"USA\", gdp['United States'])\n",
    "\n",
    "gdp['Japan'] = 4412600\n",
    "print (\"Japan\", gdp['Japan'])"
   ]
  },
  {
   "cell_type": "markdown",
   "id": "48eeb910",
   "metadata": {
    "slideshow": {
     "slide_type": "slide"
    }
   },
   "source": [
    "Example of looping over all the elements of a dictionary"
   ]
  },
  {
   "cell_type": "code",
   "execution_count": 16,
   "id": "c2fbf4ed",
   "metadata": {},
   "outputs": [
    {
     "name": "stdout",
     "output_type": "stream",
     "text": [
      "Country and GDP in dollars\n",
      "United States 18558130\n",
      "China 11383030\n",
      "Japan 4412600\n",
      "Total =  34353760\n"
     ]
    }
   ],
   "source": [
    "dict = {'United States': '18558130', \n",
    "'China': 11383030, 'Japan': '4412600'}\n",
    "print (\"Country and GDP in dollars\")\n",
    "total = 0 \n",
    "for xxx in dict.keys() :\n",
    "    print (xxx , dict[xxx] )\n",
    "    total = total + int(dict[xxx])\n",
    "print(\"Total = \", total)"
   ]
  },
  {
   "cell_type": "code",
   "execution_count": null,
   "id": "f14fcb11",
   "metadata": {},
   "outputs": [],
   "source": [
    "\n"
   ]
  },
  {
   "cell_type": "code",
   "execution_count": null,
   "id": "822d85ea",
   "metadata": {},
   "outputs": [],
   "source": []
  }
 ],
 "metadata": {
  "celltoolbar": "Slideshow",
  "kernelspec": {
   "display_name": "Python 3 (ipykernel)",
   "language": "python",
   "name": "python3"
  },
  "language_info": {
   "codemirror_mode": {
    "name": "ipython",
    "version": 3
   },
   "file_extension": ".py",
   "mimetype": "text/x-python",
   "name": "python",
   "nbconvert_exporter": "python",
   "pygments_lexer": "ipython3",
   "version": "3.12.2"
  }
 },
 "nbformat": 4,
 "nbformat_minor": 5
}
