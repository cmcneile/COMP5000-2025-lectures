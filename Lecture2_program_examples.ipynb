{
 "cells": [
  {
   "cell_type": "markdown",
   "id": "1832d00b",
   "metadata": {
    "slideshow": {
     "slide_type": "slide"
    }
   },
   "source": [
    "# Python examples in lecture 2\n",
    "* This file is a jupyter notebook. To run it you can download it from the DLE and run it on your own machine.\n",
    "* Or you can run it on google collab <https://colab.research.google.com> via your google account. This may be slower than running on your own machine\n"
   ]
  },
  {
   "cell_type": "markdown",
   "id": "081c3fe4",
   "metadata": {
    "slideshow": {
     "slide_type": "slide"
    }
   },
   "source": [
    "\n",
    "## Example of writing a code.\n",
    "* Load in the text file fit.txt\n",
    "* Download the file fit.txt from https://raw.githubusercontent.com/cmcneile/COMP5000-2022-lectures/main/fit.txt\n",
    "* Count the total number of pressups\n",
    "* There are examples on the web of reading a text file into python. See https://www.w3schools.com/python/python_file_open.asp\n",
    "\n"
   ]
  },
  {
   "cell_type": "code",
   "execution_count": 2,
   "id": "98f37380",
   "metadata": {
    "slideshow": {
     "slide_type": "slide"
    }
   },
   "outputs": [
    {
     "name": "stdout",
     "output_type": "stream",
     "text": [
      "Monday\n",
      "\n",
      "Pressup 10\n",
      "\n",
      "Situp 20\n",
      "\n",
      "Tuesday\n",
      "\n",
      "Pressup 20\n",
      "\n",
      "Thursday\n",
      "\n",
      "Jog 10\n",
      "\n",
      "Pressup 30\n",
      "\n",
      "Friday\n",
      "\n",
      "Situp 20\n"
     ]
    }
   ],
   "source": [
    "name = \"fit.txt\"\n",
    "f=open(name, \"r\")\n",
    "tmp = f.readlines()\n",
    "for x in tmp:\n",
    "  print(x)\n",
    "f.close()\n"
   ]
  },
  {
   "cell_type": "markdown",
   "id": "66466fb1",
   "metadata": {
    "slideshow": {
     "slide_type": "slide"
    }
   },
   "source": [
    "## First version of the code"
   ]
  },
  {
   "cell_type": "code",
   "execution_count": 3,
   "id": "3df76020",
   "metadata": {},
   "outputs": [
    {
     "name": "stdout",
     "output_type": "stream",
     "text": [
      "['Monday\\n', 'Pressup 10\\n', 'Situp 20\\n', 'Tuesday\\n', 'Pressup 20\\n', 'Thursday\\n', 'Jog 10\\n', 'Pressup 30\\n', 'Friday\\n', 'Situp 20']\n",
      "Monday\n",
      "Pressup 10\n",
      "Situp 20\n",
      "Tuesday\n",
      "Pressup 20\n",
      "Thursday\n",
      "Jog 10\n",
      "Pressup 30\n",
      "Friday\n",
      "Situp 20\n"
     ]
    }
   ],
   "source": [
    "name = \"fit.txt\"\n",
    "f=open(name , \"r\")\n",
    "tmp = f.readlines()\n",
    "print( tmp)\n",
    "for x in tmp:\n",
    "   xx = x.rstrip()\n",
    "   print(xx)\n",
    "f.close()"
   ]
  },
  {
   "cell_type": "markdown",
   "id": "21fc6849",
   "metadata": {
    "slideshow": {
     "slide_type": "slide"
    }
   },
   "source": [
    "## Newline\n",
    "* On a Mac or Linux PC, there is a special symbol for the end of the line.\n",
    "* The method rstrip will remove the newline "
   ]
  },
  {
   "cell_type": "code",
   "execution_count": 4,
   "id": "a7fff929",
   "metadata": {},
   "outputs": [
    {
     "name": "stdout",
     "output_type": "stream",
     "text": [
      "['Monday\\n', 'Pressup 10\\n', 'Situp 20\\n', 'Tuesday\\n', 'Pressup 20\\n', 'Thursday\\n', 'Jog 10\\n', 'Pressup 30\\n', 'Friday\\n', 'Situp 20']\n",
      "Monday\n",
      "\n",
      "Monday\n"
     ]
    }
   ],
   "source": [
    "name = \"fit.txt\"\n",
    "f=open(name, \"r\")\n",
    "tmp = f.readlines()\n",
    "print(tmp)\n",
    "print(tmp[0])\n",
    "print(tmp[0].rstrip())"
   ]
  },
  {
   "cell_type": "markdown",
   "id": "be01db37",
   "metadata": {
    "slideshow": {
     "slide_type": "slide"
    }
   },
   "source": [
    "## Towards the creating the program"
   ]
  },
  {
   "cell_type": "code",
   "execution_count": 5,
   "id": "ef84d427",
   "metadata": {},
   "outputs": [
    {
     "name": "stdout",
     "output_type": "stream",
     "text": [
      "Number of pressups =  60\n"
     ]
    }
   ],
   "source": [
    "name = \"fit.txt\"\n",
    "f=open(name, \"r\")  \n",
    "tmp = f.readlines()\n",
    "no_pressup = 0\n",
    "for x in tmp:\n",
    "  xx = x.rstrip()\n",
    "#  print(xx)\n",
    "  if \"Pressup\" in xx :\n",
    "#     print(xx)\n",
    "     xx_split = xx.split()\n",
    "#     print(xx_split)\n",
    "     no_pressup = no_pressup + int(xx_split[1])\n",
    "f.close()\n",
    "print(\"Number of pressups = \", no_pressup)"
   ]
  },
  {
   "cell_type": "markdown",
   "id": "bf31bd22",
   "metadata": {
    "slideshow": {
     "slide_type": "slide"
    }
   },
   "source": [
    "##  Final solution"
   ]
  },
  {
   "cell_type": "code",
   "execution_count": 9,
   "id": "6e4c6bac",
   "metadata": {},
   "outputs": [
    {
     "name": "stdout",
     "output_type": "stream",
     "text": [
      "Pressup 10\n",
      "Pressup 20\n",
      "Pressup 30\n",
      "30\n",
      "Number of pressups =  60\n"
     ]
    }
   ],
   "source": [
    "name = \"fit.txt\"\n",
    "f=open(name, \"r\")  \n",
    "tmp = f.readlines()\n",
    "no_pressup = 0\n",
    "for x in tmp:\n",
    "  xx = x.rstrip()\n",
    "  if \"Pressup\" in xx :\n",
    "    print(xx)\n",
    "    xx_split = xx.split()\n",
    "    no_pressup += int(xx_split[1])\n",
    "f.close()\n",
    "print(xx_split[1])\n",
    "print(\"Number of pressups = \", no_pressup)"
   ]
  },
  {
   "cell_type": "markdown",
   "id": "9bdf03a3",
   "metadata": {
    "slideshow": {
     "slide_type": "slide"
    }
   },
   "source": [
    "## Example of reading a csv file\n",
    "* You need to download the csv file https://raw.githubusercontent.com/cmcneile/COMP5000-2022-lectures/main/fit.csv\n",
    "* To load a csv file the csv module can be used (https://www.programiz.com/python-programming/csv)"
   ]
  },
  {
   "cell_type": "code",
   "execution_count": 10,
   "id": "134ca38c",
   "metadata": {},
   "outputs": [
    {
     "name": "stdout",
     "output_type": "stream",
     "text": [
      "['Monday', '10', '20', '0']\n",
      "['Tuesday', '20', '0', '0']\n",
      "['Thursday', '30', '0', '10']\n",
      "['Friday', '0', '20', '0']\n"
     ]
    }
   ],
   "source": [
    "import csv\n",
    "name = \"fit.csv\"\n",
    "with open(name) as csvfile:\n",
    "    readCSV = csv.reader(csvfile, delimiter=',')\n",
    "    next(readCSV, None)  # skip the headers\n",
    "    for row in readCSV:\n",
    "      print(row)"
   ]
  },
  {
   "cell_type": "markdown",
   "id": "7d3f7b69",
   "metadata": {
    "slideshow": {
     "slide_type": "slide"
    }
   },
   "source": [
    "##  Solving the problem if the data is stored in a csv file"
   ]
  },
  {
   "cell_type": "code",
   "execution_count": 11,
   "id": "26911215",
   "metadata": {},
   "outputs": [
    {
     "name": "stdout",
     "output_type": "stream",
     "text": [
      "Number of pressups =  60\n"
     ]
    }
   ],
   "source": [
    "import csv\n",
    "name = \"fit.csv\"\n",
    "total = 0\n",
    "with open(name) as csvfile:\n",
    "    readCSV = csv.reader(csvfile, delimiter=',')\n",
    "    next(readCSV, None)  # skip the headers\n",
    "    for row in readCSV:\n",
    "      total += int( row[1] )\n",
    "print(\"Number of pressups = \", total)"
   ]
  },
  {
   "cell_type": "code",
   "execution_count": null,
   "id": "2e637b9d",
   "metadata": {},
   "outputs": [],
   "source": []
  },
  {
   "cell_type": "code",
   "execution_count": null,
   "id": "f14fcb11",
   "metadata": {},
   "outputs": [],
   "source": [
    "\n"
   ]
  },
  {
   "cell_type": "code",
   "execution_count": null,
   "id": "822d85ea",
   "metadata": {},
   "outputs": [],
   "source": []
  }
 ],
 "metadata": {
  "celltoolbar": "Slideshow",
  "kernelspec": {
   "display_name": "Python 3 (ipykernel)",
   "language": "python",
   "name": "python3"
  },
  "language_info": {
   "codemirror_mode": {
    "name": "ipython",
    "version": 3
   },
   "file_extension": ".py",
   "mimetype": "text/x-python",
   "name": "python",
   "nbconvert_exporter": "python",
   "pygments_lexer": "ipython3",
   "version": "3.12.2"
  }
 },
 "nbformat": 4,
 "nbformat_minor": 5
}
