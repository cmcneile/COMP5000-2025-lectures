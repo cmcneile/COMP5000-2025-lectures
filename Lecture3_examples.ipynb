{
 "cells": [
  {
   "cell_type": "markdown",
   "id": "1832d00b",
   "metadata": {
    "slideshow": {
     "slide_type": "slide"
    }
   },
   "source": [
    "# Python examples in lecture 3\n",
    "* This file is a jupyter notebook. To run it you can download it from the DLE and run it on your own machine.\n",
    "* Or you can run it on google collab <https://colab.research.google.com> via your google account. This may be slower than running on your own machine\n"
   ]
  },
  {
   "cell_type": "markdown",
   "id": "9026b283",
   "metadata": {
    "slideshow": {
     "slide_type": "slide"
    }
   },
   "source": [
    "## Why do we need to manipulate text\n",
    "* We need to extract specific parts of a text such as names or numbers. This is a important part of data cleaning.\n",
    "* We may need correct mis-spelled words.\n",
    "* When you download web pages you get additional tags (such as \\<li\\>) that must be removed.\n",
    "\n",
    "Python has excellent string processing tools.\n",
    "See https://greenteapress.com/thinkpython2/html/thinkpython2009.html from the book Think Python"
   ]
  },
  {
   "cell_type": "markdown",
   "id": "8d9bf110",
   "metadata": {
    "slideshow": {
     "slide_type": "slide"
    }
   },
   "source": [
    "* There is potentially informtion in free text written by customers. \n",
    "* The text needs to be \"cleaned up\" so that it can be potentially used in machine learning.\n",
    "* The review below is from Trustpilot  https://uk.trustpilot.com/\n",
    "\n",
    "![RegBook](https://github.com/cmcneile/COMP5000-2023-lectures/blob/main/trustPilot.png?raw=true)\n",
    "\n",
    "\n"
   ]
  },
  {
   "cell_type": "markdown",
   "id": "2c60bf7f",
   "metadata": {
    "slideshow": {
     "slide_type": "slide"
    }
   },
   "source": [
    "## Example of possible text manipulation\n",
    "\n",
    "Often we need to extract specific parts of a document\n",
    "\n",
    "List of food Cost<br>\n",
    "Cost 10 pounds meat<br>\n",
    "Cost 5  pounds fruit<br>\n",
    "Cost 2  Chocolate<br>\n",
    "\n",
    "\n",
    "In the above example we might want to extract 10,5 and 2. How\n",
    "do we match **Cost** at the start of the line.\n"
   ]
  },
  {
   "cell_type": "markdown",
   "id": "d4286902",
   "metadata": {
    "slideshow": {
     "slide_type": "slide"
    }
   },
   "source": [
    "## String manipulation methods\n",
    "\n",
    "* To deal with text files we often need to change or extract parts of the text.\n",
    "* The string class in python has some  useful tools.\n",
    "\n",
    "* https://www.w3schools.com/python/python_ref_string.asp for more information\n",
    "\n",
    "* There are more powerful ways of manipulating strings using **regular expressions**.\n",
    "\n"
   ]
  },
  {
   "cell_type": "markdown",
   "id": "9a5705c0",
   "metadata": {
    "slideshow": {
     "slide_type": "slide"
    }
   },
   "source": [
    "## Example of string manipulation\n",
    "* The split method can break a string into a list of text that were seperated by spaces.\n",
    "* There are additional methods such as **lower** (that converts the text to lower case)"
   ]
  },
  {
   "cell_type": "code",
   "execution_count": 1,
   "id": "2ce9b66c",
   "metadata": {},
   "outputs": [
    {
     "name": "stdout",
     "output_type": "stream",
     "text": [
      "['List', 'of', 'food', 'Cost']\n",
      "List\n",
      "of\n",
      "food\n",
      "Cost\n",
      "Cost has been found\n"
     ]
    }
   ],
   "source": [
    "sentence = \"List of food Cost\"\n",
    "sentence_list = sentence.split()\n",
    "print(sentence_list)\n",
    "for xx in sentence_list :\n",
    "    print(xx )\n",
    "    if \"Cost\" in xx :\n",
    "        print(\"Cost has been found\")\n"
   ]
  },
  {
   "cell_type": "markdown",
   "id": "93ce658b",
   "metadata": {
    "slideshow": {
     "slide_type": "slide"
    }
   },
   "source": [
    "## Searching strings\n",
    "\n",
    "* There are commands to search for substrings in strings. \n",
    "* These return the first position of the substring, or -1 if the substring is not part of the string."
   ]
  },
  {
   "cell_type": "code",
   "execution_count": 2,
   "id": "f7bcbfc9",
   "metadata": {},
   "outputs": [
    {
     "name": "stdout",
     "output_type": "stream",
     "text": [
      "Location of of   5\n",
      "Location of blue  -1\n"
     ]
    }
   ],
   "source": [
    "text = \"List of food Cost\"\n",
    "xxx = text.find(\"of\") \n",
    "print (\"Location of of  \" ,  xxx)\n",
    "yyy = text.find(\"blue\") \n",
    "print (\"Location of blue \" ,  yyy)"
   ]
  },
  {
   "cell_type": "markdown",
   "id": "61fd6963",
   "metadata": {
    "slideshow": {
     "slide_type": "slide"
    }
   },
   "source": [
    "## Example of replacing text\n",
    "* It is important to be able to change strings"
   ]
  },
  {
   "cell_type": "code",
   "execution_count": 3,
   "id": "dc4e83a1",
   "metadata": {},
   "outputs": [
    {
     "name": "stdout",
     "output_type": "stream",
     "text": [
      "Initial string =  <li> The first example\n",
      "Modfied string =  The first example\n"
     ]
    }
   ],
   "source": [
    "name = \"<li> The first example\"\n",
    "namer = name.replace(\"<li> \" , \"\")\n",
    "print(\"Initial string = \", name)\n",
    "print(\"Modfied string = \", namer)\n"
   ]
  },
  {
   "cell_type": "markdown",
   "id": "d7a04c9d",
   "metadata": {
    "slideshow": {
     "slide_type": "slide"
    }
   },
   "source": [
    "## Further string manipulation\n",
    "\n",
    "* How do we search for a word at the start or end of a string?\n",
    "* How do you search for a pattern, such as four digits, eg 4567\n",
    "\n",
    "Regular expressions are a powerful way to search and replace strings"
   ]
  },
  {
   "cell_type": "markdown",
   "id": "2c410554",
   "metadata": {
    "slideshow": {
     "slide_type": "slide"
    }
   },
   "source": [
    "##  Introduction to regular expressions\n",
    "\n",
    "\n",
    "* There is a module called **re** that contains the regular expression function.\n",
    "* Regular expression can search and replace text.\n",
    "* Regular expressions can replace parts of strings.\n",
    "* Regular expressons allow you to match text at the start of a line for example.\n",
    "* There is a powerful syntax of manipulating strings, which is similar in many computer languages.\n",
    "* See examples on https://www.w3schools.com/python/python_regex.asp\n",
    "\n",
    "\n",
    "\n",
    "I am not going to discuss the performance of regular expressions,\n",
    "because I personally only use them for small strings.\n"
   ]
  },
  {
   "cell_type": "markdown",
   "id": "05cf40d2",
   "metadata": {
    "slideshow": {
     "slide_type": "slide"
    }
   },
   "source": [
    "## Using regular expressions to replace text\n",
    "\n",
    "* The regular expressions are part of a module called **re**\n",
    "* The function **re.sub** can replace parts of strings.\n"
   ]
  },
  {
   "cell_type": "code",
   "execution_count": 3,
   "id": "570240aa",
   "metadata": {},
   "outputs": [
    {
     "name": "stdout",
     "output_type": "stream",
     "text": [
      "Hello Student\n",
      "Hello Roger\n"
     ]
    }
   ],
   "source": [
    "import re\n",
    "in_string = \"Hello Student\"\n",
    "out_string = re.sub(\"Student\", \"Roger\" , in_string)\n",
    "print(in_string)\n",
    "print(out_string)"
   ]
  },
  {
   "cell_type": "code",
   "execution_count": 5,
   "id": "5b5e6e0f",
   "metadata": {
    "slideshow": {
     "slide_type": "slide"
    }
   },
   "outputs": [
    {
     "name": "stdout",
     "output_type": "stream",
     "text": [
      "Email Dear Roger, You didn't get the job.\n",
      "Email Dear Mary, You didn't get the job.\n"
     ]
    }
   ],
   "source": [
    "import re\n",
    "Email = \"Dear Name, You didn't get the job.\"\n",
    "for name in [ \"Roger\" , \"Mary\" ]  :\n",
    "    EmailOut = re.sub(\"Name\", name, Email)\n",
    "    print (\"Email\", EmailOut)"
   ]
  },
  {
   "cell_type": "markdown",
   "id": "1ac6225f",
   "metadata": {},
   "source": [
    "The string **EmailOut** would be sent to a \n",
    "function that sends out an\n",
    "email."
   ]
  },
  {
   "cell_type": "markdown",
   "id": "4143db8b",
   "metadata": {
    "slideshow": {
     "slide_type": "slide"
    }
   },
   "source": [
    "## Regular expressions\n",
    "\n",
    "There are some special symbols which match generic patterns.\n",
    "\n",
    "\n",
    "* . this matches any character except a newline\n",
    "* $ Matches the end of the string or just before the newline at the end of the string.\n",
    "* \\d  matches any digit (0 - 9)\n",
    "* \\*  repeats the previous expressions as many times as possible (wild card).\n",
    "* \\S matches any white space character.\n",
    "* \\D matches any non-digit character.\n",
    "\n",
    "This is a topic where it is helpful to see some examples.\n"
   ]
  },
  {
   "cell_type": "markdown",
   "id": "a593682c",
   "metadata": {
    "slideshow": {
     "slide_type": "slide"
    }
   },
   "source": [
    "##  Searching\n",
    "* The function **re.search** looks for a pattern in a string"
   ]
  },
  {
   "cell_type": "code",
   "execution_count": 7,
   "id": "9baff199",
   "metadata": {
    "slideshow": {
     "slide_type": "-"
    }
   },
   "outputs": [
    {
     "name": "stdout",
     "output_type": "stream",
     "text": [
      "Cost is in the string\n",
      "Cost is at the end \n"
     ]
    }
   ],
   "source": [
    "import re\n",
    "xxx = \" Cost List of food Cost\"\n",
    "\n",
    "if \"Cost\" in xxx :\n",
    "    print(\"Cost is in the string\")\n",
    "    \n",
    "if re.search(r\"Cost$\" , xxx) :\n",
    "    print(\"Cost is at the end \")\n",
    "\n",
    "if re.search(r\"^Cost\" , xxx) :\n",
    "    print(\"Cost is at the start\")"
   ]
  },
  {
   "cell_type": "markdown",
   "id": "cd441a46",
   "metadata": {
    "slideshow": {
     "slide_type": "slide"
    }
   },
   "source": [
    "## Another example "
   ]
  },
  {
   "cell_type": "code",
   "execution_count": 7,
   "id": "0d6a0d7f",
   "metadata": {
    "slideshow": {
     "slide_type": "-"
    }
   },
   "outputs": [
    {
     "name": "stdout",
     "output_type": "stream",
     "text": [
      "Cost is at the end \n",
      "Cost is at the start\n"
     ]
    }
   ],
   "source": [
    "def look_for_Cost(xxx) :\n",
    "    if re.search(r\"Cost$\" , xxx) :   # match at end of string\n",
    "        print(\"Cost is at the end \")\n",
    "\n",
    "    if re.search(r\"^Cost\" , xxx) :  # match at start of string\n",
    "       print(\"Cost is at the start\")\n",
    "\n",
    "look_for_Cost(\"List of food Cost\")\n",
    "look_for_Cost(\"Cost 10 pounds meat\")"
   ]
  },
  {
   "cell_type": "markdown",
   "id": "1090bd14",
   "metadata": {
    "slideshow": {
     "slide_type": "slide"
    }
   },
   "source": [
    "##  Examples of Regular expressions\n",
    "*  \\\\D below means any letter\n",
    "* The replacement converts any letter to nothing"
   ]
  },
  {
   "cell_type": "code",
   "execution_count": 8,
   "id": "b1256d17",
   "metadata": {},
   "outputs": [
    {
     "name": "stdout",
     "output_type": "stream",
     "text": [
      "Student ID 5674231\n"
     ]
    }
   ],
   "source": [
    "import re\n",
    "input =  \"My name is Roger and my ID is 5674231\"\n",
    "inputr= re.sub(r\"\\D\", \"\", input)\n",
    "print(\"Student ID\", inputr)"
   ]
  },
  {
   "cell_type": "markdown",
   "id": "ef997ba1",
   "metadata": {
    "slideshow": {
     "slide_type": "slide"
    }
   },
   "source": [
    "## Example\n",
    "* Write a regular expression to check that a string only contains 4 digits\n",
    "* The application would be to check that the format of a pin number is correct"
   ]
  },
  {
   "cell_type": "code",
   "execution_count": 11,
   "id": "0229d08b",
   "metadata": {},
   "outputs": [
    {
     "name": "stdout",
     "output_type": "stream",
     "text": [
      "2345 has 4 digits\n"
     ]
    }
   ],
   "source": [
    "def match_4_digits(xxx) :\n",
    "  if re.search(r\"^\\d\\d\\d\\d$\", xxx) :\n",
    "      print(xxx, \"has 4 digits\")\n",
    "\n",
    "match_4_digits(\"12\")\n",
    "match_4_digits(\"123\")\n",
    "match_4_digits(\"2345\")\n",
    "match_4_digits(\"1X34\")\n",
    "match_4_digits(\"1234 \")\n",
    "\n",
    "if re.search(r\"^Cost\" , xxx) :\n",
    "    print(\"Cost is at the star5\")"
   ]
  },
  {
   "cell_type": "markdown",
   "id": "c7195082",
   "metadata": {
    "slideshow": {
     "slide_type": "slide"
    }
   },
   "source": [
    "##  Example of Regular expressions\n",
    "\n",
    "* Extract a phone number from a string.\n",
    "* .*\\$  matches any charachter to the end of the line"
   ]
  },
  {
   "cell_type": "code",
   "execution_count": 11,
   "id": "969a70a6",
   "metadata": {},
   "outputs": [
    {
     "name": "stdout",
     "output_type": "stream",
     "text": [
      "Input  2004-959-559 # This is Phone Number\n",
      "Part A :  2004-959-559 \n",
      "Phone Number :  2004959559\n"
     ]
    }
   ],
   "source": [
    "import re\n",
    "phone = \"2004-959-559 # This is Phone Number\"\n",
    "print (\"Input \" , phone)\n",
    "# Delete Python-style comments\n",
    "num = re.sub(r'#.*$', \"\", phone)  \n",
    "print (\"Part A : \", num)\n",
    "# Remove anything other than digits\n",
    "num = re.sub(r'\\D', \"\", phone)    \n",
    "print (\"Phone Number : \", num)\n"
   ]
  },
  {
   "cell_type": "markdown",
   "id": "8bbed142",
   "metadata": {
    "slideshow": {
     "slide_type": "slide"
    }
   },
   "source": [
    "## Example of possible text manipulation\n",
    "\n",
    "Often we need to extract specific parts of a document\n",
    "\n",
    "List of food Cost<br>\n",
    "Cost 10 pounds meat<br>\n",
    "Cost 5  pounds fruit<br>\n",
    "Cost 2  Chocolate<br>\n",
    "\n",
    "Plan\n",
    "Test driven development should get 17\n",
    "\n",
    "LIVE CODING EXAMPLE\n",
    "\n"
   ]
  },
  {
   "cell_type": "code",
   "execution_count": 22,
   "id": "d5ac3fef",
   "metadata": {},
   "outputs": [
    {
     "name": "stdout",
     "output_type": "stream",
     "text": [
      "10\n",
      "5\n",
      "2\n",
      "17\n"
     ]
    }
   ],
   "source": [
    "import re\n",
    "text = \"\"\"\n",
    "List of food Cost\n",
    "Cost 10 pounds meat\n",
    "Cost 5 pounds fruit\n",
    "Cost 2 Chocolate\n",
    "\"\"\"\n",
    "\n",
    "cost = 0\n",
    "#print(text)\n",
    "text_lines = text.split(\"\\n\")\n",
    "#print(text_lines)\n",
    "for line in text_lines :\n",
    "    if re.search(\"^Cost\", line):\n",
    "        #  print(line)\n",
    "          tmp =  line.split(\" \")    \n",
    "          print(tmp[1])\n",
    "          cost = cost + int( tmp[1] )\n",
    "print(cost)"
   ]
  },
  {
   "cell_type": "code",
   "execution_count": 21,
   "id": "4fa8db99",
   "metadata": {},
   "outputs": [
    {
     "name": "stdout",
     "output_type": "stream",
     "text": [
      "Cost =  17\n"
     ]
    }
   ],
   "source": [
    "# Solution\n",
    "text = \"\"\"\n",
    "List of food Cost\n",
    "Cost 10 pounds meat\n",
    "Cost 5 pounds fruit\n",
    "Cost 2 Chocolate\n",
    "\"\"\"\n",
    "\n",
    "cost = 0\n",
    "#print(text)\n",
    "text_lines = text.split(\"\\n\")\n",
    "#print(text_lines)\n",
    "for x_ in text_lines :\n",
    "    if re.search(\"^Cost\" , x_) :\n",
    "       x_split = x_.split()\n",
    "       cost += int( x_split[1])\n",
    "print(\"Cost = \" , cost)"
   ]
  },
  {
   "cell_type": "markdown",
   "id": "8d60a11d",
   "metadata": {
    "slideshow": {
     "slide_type": "slide"
    }
   },
   "source": [
    "## The power of regular expressions\n",
    "\n",
    "So far we can do simple replacements of substrings.\n",
    "\n",
    "* I have showed some examples, but you need to read the documentation to fully use all the tricks.\n",
    "* See the documentation https://docs.python.org/2/library/re.html\n",
    "* Regular expressions are a language, but not as complete a language as python.\n",
    "* Once you have understood the basics, regular expressions are similar in most languages."
   ]
  },
  {
   "cell_type": "markdown",
   "id": "9d4c0847",
   "metadata": {
    "slideshow": {
     "slide_type": "slide"
    }
   },
   "source": [
    "##  My history with regular expressions"
   ]
  },
  {
   "cell_type": "markdown",
   "id": "c0e87f2c",
   "metadata": {},
   "source": [
    "* I started using regular expressions with UNIX tools: grep, sed, awk.\n",
    "* I then used regular expressions with a language called perl\n",
    "* I don't use the full power of regular expressions.\n",
    "\n",
    "![RegBook](https://m.media-amazon.com/images/I/51s3zpVhkYL._SX260_.jpg)"
   ]
  },
  {
   "cell_type": "markdown",
   "id": "d8f4e155",
   "metadata": {
    "slideshow": {
     "slide_type": "slide"
    }
   },
   "source": [
    "## Background to regular expressions\n",
    "\n",
    "There is a long history of regular expressions.\n",
    "\n",
    "* A regular expression (shortened as regex or regexp) is a sequence of characters that define a search pattern. \n",
    "* The concept arose in the 1950s when the American mathematician Stephen Cole Kleene formalized the description of a regular language\n",
    "* The first computer implementations were in the late 1960s.\n",
    "\n",
    "\n",
    "More detail at https://en.wikipedia.org/wiki/Regular_expression\n",
    "and the book:\n",
    "Mastering Regular Expressions: Understand Your Data and Be More\n",
    "Productive \n",
    "by Jeffrey E. F. Friedl ."
   ]
  },
  {
   "cell_type": "markdown",
   "id": "b3d53ff0",
   "metadata": {
    "slideshow": {
     "slide_type": "slide"
    }
   },
   "source": [
    "## Natural Language processing\n",
    "\n",
    "Regular expressions allow us to split up a text\n",
    "and split it into sub parts.\n",
    "\n",
    "* The next step is Natural Language Processing NLP, where the library knows the structure of English.\n",
    "* Natural Language Toolkit library in python https://www.nltk.org/\n",
    "\n",
    "One of the professions that AI may radically change is lawyers.\n",
    "For example, \"Will A.I. Put Lawyers Out Of Business?\" \n",
    "https://www.forbes.com/sites/cognitiveworld/2019/02/09/will-a-i-put-lawyers-out-of-business/?sh=4df4c25131f0 .\n",
    "\n",
    "For example, NLP is used to extract information from legal \n",
    "contracts https://pythonawesome.com/a-spacy-pipeline-and-model-for-nlp-on-unstructured-legal-text/ .\n"
   ]
  },
  {
   "cell_type": "markdown",
   "id": "956cb021",
   "metadata": {
    "slideshow": {
     "slide_type": "slide"
    }
   },
   "source": [
    "## Basic example of a nltk \n",
    "* You may need to install the nltk module  https://anaconda.org/anaconda/nltk\n",
    "* So nltk knows about punctuation, so it breaks down strings into language tokens."
   ]
  },
  {
   "cell_type": "code",
   "execution_count": 20,
   "id": "6b4fd75d",
   "metadata": {},
   "outputs": [
    {
     "name": "stdout",
     "output_type": "stream",
     "text": [
      "At eight o'clock on Thursday morning\n",
      "Arthur didn't feel very good, but he tested negative for COVID.\n",
      "['At', 'eight', \"o'clock\", 'on', 'Thursday', 'morning', 'Arthur', 'did', \"n't\", 'feel', 'very', 'good', ',', 'but', 'he', 'tested', 'negative', 'for', 'COVID', '.']\n"
     ]
    }
   ],
   "source": [
    "import nltk\n",
    "#nltk.download('punkt')\n",
    "#nltk.download('punkt')\n",
    "#nltk.download('wordnet')\n",
    "#nltk.download('omw-1.4')\n",
    "\n",
    "sentence = \"\"\"At eight o'clock on Thursday morning\n",
    "Arthur didn't feel very good, but he tested negative for COVID.\"\"\"\n",
    "tokens = nltk.word_tokenize(sentence,language='english', preserve_line=True)\n",
    "\n",
    "print(sentence)\n",
    "print(tokens)"
   ]
  },
  {
   "cell_type": "markdown",
   "id": "36c29419",
   "metadata": {
    "slideshow": {
     "slide_type": "slide"
    }
   },
   "source": [
    "##  Web scraping project\n",
    "\n",
    "* Web scraping is downloading a web page and extracting information https://en.wikipedia.org/wiki/Web_scraping\n",
    "* Web scraping is useful for example to find customer information (360 oor 720 view of customers)\n",
    "* If possible it is better to use an API (such as the twitter API) to download the information, but sometimes there is no API such as for facebook or Trustpilot (https://uk.trustpilot.com/).\n",
    "* Sometimes the web server does not like pages to be downloaded.\n",
    "\n",
    "\n",
    "![Customer](https://www.insurancethoughtleadership.com/sites/default/files/wp/2015/03/Untitled.png)"
   ]
  },
  {
   "cell_type": "markdown",
   "id": "34b368b4",
   "metadata": {
    "slideshow": {
     "slide_type": "slide"
    }
   },
   "source": [
    "##  Example\n",
    "\n",
    "*  As an example we look at extracting information from https://webscraper.io/test-sites/tables\n",
    "*  This is a test site to practice web scraping (which means the structure is simpler than other sites)\n",
    "*  The goal is to extract the **usernames**\n",
    "\n",
    "![scrape](https://github.com/cmcneile/COMP5000-2022-lectures/blob/main/webscrape.png?raw=true)"
   ]
  },
  {
   "cell_type": "code",
   "execution_count": null,
   "id": "181764f6",
   "metadata": {},
   "outputs": [],
   "source": []
  },
  {
   "cell_type": "markdown",
   "id": "31ccbdec",
   "metadata": {
    "slideshow": {
     "slide_type": "slide"
    }
   },
   "source": [
    "##  Plan of the project\n",
    "\n",
    "<blockquote>\n",
    "    Extract the usernames from the web page\n",
    "</blockquote>\n",
    "\n",
    "We start from a basic plan. In this case the overall plan \n",
    "is suggested by the problem.\n",
    "\n",
    "\n",
    "* **Download the web page** There will be a python module to do that.\n",
    "\n",
    "* **Convert the web page into lines in a list**\n",
    "    * Loop through the lines.\n",
    "    * Use regular expressions or string matching to extract lines containing the username such as @mdo"
   ]
  },
  {
   "cell_type": "markdown",
   "id": "9d384f57",
   "metadata": {
    "slideshow": {
     "slide_type": "slide"
    }
   },
   "source": [
    "## Python module to web scrape\n",
    "* We shall use a module to download the web page\n",
    "* Use https://urllib3.readthedocs.io/en/stable/ \n",
    "* Start from the example on the above web page.\n"
   ]
  },
  {
   "cell_type": "code",
   "execution_count": 20,
   "id": "7bf9852b",
   "metadata": {},
   "outputs": [
    {
     "name": "stdout",
     "output_type": "stream",
     "text": [
      "Status  200\n",
      "rdata =  b'<!DOCTYPE html>\\n<html lang=\"en\">\\n<head>\\n\\t<!-- Google Tag Manager -->\\n<script nonce=\"768RYLf6zgq9yhbdhjULJxjJb4ZRLDhV\">(function (w, d, s, l, i) {\\n\\t\\tw[l] = w[l] || [];\\n\\t\\tw[l].push({\\n\\t\\t\\t\\'gtm.start\\':\\n\\t\\t\\t\\tnew Date().getTime(), event: \\'gtm.js\\'\\n\\t\\t});\\n\\t\\tvar f = d.getElementsByTagName(s)[0],\\n\\t\\t\\tj = d.createElement(s), dl = l != \\'dataLayer\\' ? \\'&l=\\' + l : \\'\\';\\n\\t\\tj.async = true;\\n\\t\\tj.src =\\n\\t\\t\\t\\'https://www.googletagmanager.com/gtm.js?id=\\' + i + dl;\\n\\t\\tf.parentNode.insertBefore(j, f);\\n\\t})(window, document, \\'script\\', \\'dataLayer\\', \\'GTM-NVFPDWB\\');</script>\\n<!-- End Google Tag Manager -->\\n\\t<title>Table Playground | Web Scraper Test Sites</title>\\n\\t<meta charset=\"utf-8\">\\n\\t<meta http-equiv=\"X-UA-Compatible\" content=\"IE=edge,chrome=1\">\\n\\n\\t<meta name=\"keywords\"\\n\\t\\t  content=\"web scraping,Web Scraper,Chrome extension,Crawling,Cross platform scraper\"/>\\n\\t<meta name=\"description\"\\n\\t\\t  content=\"The most popular web scraping extension. Start scraping in minutes. Automate your tasks with our Cloud Scraper. No software to download, no coding needed.\"/>\\n\\t<link rel=\"icon\" sizes=\"128x128\" href=\"/favicon.png\">\\n\\n\\t<meta name=\"viewport\" content=\"width=device-width, initial-scale=1.0\">\\n\\t\\n\\t<link rel=\"preconnect\" href=\"https://fonts.googleapis.com\">\\n\\t<link rel=\"preconnect\" href=\"https://fonts.gstatic.com\" crossorigin>\\n\\t<link href=\"https://fonts.googleapis.com/css2?family=Roboto:wght@400;500;600&display=swap\" rel=\"stylesheet\">\\n\\t<link href=\"https://fonts.googleapis.com/css2?family=Montserrat:wght@300;400;500;600;700;900&display=swap\" rel=\"stylesheet\">\\n\\n\\t<link rel=\"stylesheet\" href=\"/css/app.css?id=27e489f6a16ba172752249d454053a2a\">\\n\\t<link rel=\"stylesheet\" href=\"/css/ws-icons.font.css?id=8f2c6b77e3c33bbc1183eeae2ae24269\">\\n\\n\\t<link rel=\"canonical\" href=\"https://webscraper.io/test-sites/tables\">\\n\\t<link rel=\"apple-touch-icon\" href=\"/img/logo-icon.png\">\\n\\n\\t<script defer src=\"/js/app.js?id=a50a1127238ba3432d5a265183ff9557\"></script>\\n\\n\\t\\n</head>\\n<body>\\n<!-- Google Tag Manager (noscript) -->\\n<noscript>\\n\\t<iframe src=\"https://www.googletagmanager.com/ns.html?id=GTM-NVFPDWB\"\\n\\t        height=\"0\" width=\"0\" style=\"display:none;visibility:hidden\"></iframe>\\n</noscript>\\n<!-- End Google Tag Manager (noscript) -->\\n<header role=\"banner\" class=\"navbar fixed-top navbar-expand-lg navbar-dark navbar-static svg-background\" id=\"navbar-top\">\\n\\t<div class=\"container\">\\n\\n\\t\\t<div class=\"navbar-header\">\\n\\n\\t\\t\\t<a data-bs-toggle=\"collapse-side\" data-bs-target=\".side-collapse\" data-bs-target-2=\".side-collapse-container\">\\n\\t\\t\\t\\t<button type=\"button\" class=\"navbar-toggler float-end collapsed\" data-bs-toggle=\"collapse\"\\n\\t\\t\\t\\t\\t\\tdata-bs-target=\"#navbar\" data-bs-target-2=\".side-collapse-container\" data-bs-target-3=\".side-collapse\"\\n\\t\\t\\t\\t\\t\\taria-expanded=\"false\" aria-controls=\"navbar\">\\n\\n\\t\\t\\t\\t\\t<span class=\"visually-hidden\">Toggle navigation</span>\\n\\t\\t\\t\\t\\t<span class=\"icon-bar top-bar\"></span>\\n\\t\\t\\t\\t\\t<span class=\"icon-bar middle-bar\"></span>\\n\\t\\t\\t\\t\\t<span class=\"icon-bar bottom-bar\"></span>\\n\\t\\t\\t\\t\\t<span class=\"icon-bar extra-bottom-bar\"></span>\\n\\n\\t\\t\\t\\t</button>\\n\\t\\t\\t</a>\\n\\t\\t\\t<div class=\"navbar-brand\">\\n\\t\\t\\t\\t<a href=\"/\"><img src=\"/img/logo_white.svg\" alt=\"Web Scraper\"></a>\\n\\t\\t\\t</div>\\n\\t\\t</div>\\n\\n\\t\\t<div class=\"side-collapse in\">\\n\\t\\t\\t<nav id=\"navbar\" role=\"navigation\" class=\"navbar-collapse collapse\">\\n\\t\\t\\t\\t<ul class=\"nav navbar-nav navbar-right\">\\n\\t\\t\\t\\t\\t<li class=\"nav-item\">\\n\\t\\t\\t\\t\\t\\t<a href=\"/\" class=\"nav-link menuitm\">\\n\\t\\t\\t\\t\\t\\t\\t<p>Web Scraper</p>\\n\\t\\t\\t\\t\\t\\t\\t<div class=\"crta\"></div>\\n\\t\\t\\t\\t\\t\\t</a>\\n\\t\\t\\t\\t\\t</li>\\n\\t\\t\\t\\t\\t<li class=\"nav-item\">\\n\\t\\t\\t\\t\\t\\t<a href=\"/cloud-scraper\" class=\"nav-link menuitm\" id=\"cloud-nav-link\">\\n\\t\\t\\t\\t\\t\\t\\t<p>Cloud Scraper</p>\\n\\t\\t\\t\\t\\t\\t\\t<div class=\"crta\"></div>\\n\\t\\t\\t\\t\\t\\t</a>\\n\\t\\t\\t\\t\\t</li>\\n\\t\\t\\t\\t\\t<li class=\"nav-item\">\\n\\t\\t\\t\\t\\t\\t<a href=\"/pricing\" class=\"nav-link menuitm\" id=\"pricing-nav-link\">\\n\\t\\t\\t\\t\\t\\t\\t<p>Pricing</p>\\n\\t\\t\\t\\t\\t\\t\\t<div class=\"crta\"></div>\\n\\t\\t\\t\\t\\t\\t</a>\\n\\t\\t\\t\\t\\t</li>\\n\\t\\t\\t\\t\\t<li class=\"nav-item dropdown\">\\n\\t\\t\\t\\t\\t\\t<button class=\"menuitm nav-link dropdown-toggle\" id=\"dropdownMenuLink\" role=\"button\" data-bs-toggle=\"dropdown\" aria-haspopup=\"true\" aria-expanded=\"false\">\\n\\t\\t\\t\\t\\t\\t\\t<p>Learn</p>\\n\\t\\t\\t\\t\\t\\t\\t<span class=\"crta\"></span>\\n\\t\\t\\t\\t\\t\\t</button>\\n\\t\\t\\t\\t\\t\\t<ul class=\"dropdown-menu\" aria-labelledby=\"dropdownMenuLink\">\\n\\t\\t\\t\\t\\t\\t\\t<li>\\n\\t\\t\\t\\t\\t\\t\\t\\t<a href=\"/documentation\" class=\"dropdown-item\">Documentation</a>\\n\\t\\t\\t\\t\\t\\t\\t</li>\\n\\t\\t\\t\\t\\t\\t\\t<li>\\n\\t\\t\\t\\t\\t\\t\\t\\t<a href=\"/tutorials\" class=\"dropdown-item\">Video Tutorials</a>\\n\\t\\t\\t\\t\\t\\t\\t</li>\\n\\t\\t\\t\\t\\t\\t\\t<li>\\n\\t\\t\\t\\t\\t\\t\\t\\t<a href=\"/how-to-videos\" class=\"dropdown-item\">How to</a>\\n\\t\\t\\t\\t\\t\\t\\t</li>\\n\\t\\t\\t\\t\\t\\t\\t<li>\\n\\t\\t\\t\\t\\t\\t\\t\\t<a href=\"/test-sites\" class=\"dropdown-item\">Test Sites</a>\\n\\t\\t\\t\\t\\t\\t\\t</li>\\n\\t\\t\\t\\t\\t\\t\\t<li>\\n\\t\\t\\t\\t\\t\\t\\t\\t<a href=\"https://forum.webscraper.io/\" target=\"_blank\" rel=\"noopener\" class=\"dropdown-item\">Forum</a>\\n\\t\\t\\t\\t\\t\\t\\t</li>\\n\\t\\t\\t\\t\\t\\t</ul>\\n\\t\\t\\t\\t\\t</li>\\n\\t\\t\\t\\t\\t<li class=\"nav-item\">\\n\\t\\t\\t\\t\\t\\t<a href=\"https://chromewebstore.google.com/detail/web-scraper-free-web-scra/jnhgnonknehpejjnehehllkliplmbmhn?hl=en\" target=\"_blank\" class=\"nav-link btn-menu1 install-extension\">Install</a>\\n\\t\\t\\t\\t\\t</li>\\n\\t\\t\\t\\t\\t<li class=\"nav-item\">\\n\\t\\t\\t\\t\\t\\t<a href=\"https://cloud.webscraper.io/\" class=\"nav-link btn-menu2\">Cloud Login</a>\\n\\t\\t\\t\\t\\t</li>\\n\\t\\t\\t\\t</ul>\\n\\t\\t\\t</nav>\\n\\t\\t</div>\\n\\t</div>\\n</header>\\n\\n<div class=\"wrapper\">\\n\\t\\n\\t<div class=\"formenu-here container-fluid\">\\n\\n\\t</div>\\n\\t<div class=\"container-fluid blog-hero\">\\n\\t\\t<div class=\"container\">\\n\\t\\t\\t<div class=\"row\">\\n\\t\\t\\t\\t<div class=\"col-lg-12\">\\n\\t\\t\\t\\t\\t<h1>Test Sites</h1>\\n\\t\\t\\t\\t</div>\\n\\t\\t\\t</div>\\n\\t\\t</div>\\n\\t</div>\\n\\n\\t<div class=\"container\">\\n\\t\\t<div class=\"test-site\">\\n\\t\\t\\t<div class=\"row\">\\n\\t\\t\\t\\t<div class=\"col-lg-3 sidebar\">\\n\\t\\t\\t\\t\\t<div class=\"navbar-light sidebar\" role=\"navigation\">\\n\\t\\t\\t\\t\\t\\t<div class=\"sidebar-nav navbar-collapse\">\\n\\t\\t\\t\\t\\t\\t\\t<ul class=\"nav flex-column tables-nav\" id=\"side-menu\">\\n\\t\\t\\t\\t\\t\\t\\t\\t<li class=\"nav-item\">\\n\\t\\t\\t\\t\\t\\t\\t\\t\\t<a href=\"/test-sites/tables/tables-semantically-correct\" class=\"table-nav-button semantically-correct-button nav-link  active \">Semantically correct tables</a>\\n\\t\\t\\t\\t\\t\\t\\t\\t</li>\\n\\t\\t\\t\\t\\t\\t\\t\\t<li class=\"nav-item\">\\n\\t\\t\\t\\t\\t\\t\\t\\t\\t<a href=\"/test-sites/tables/tables-without-thead\" class=\"table-nav-button button-without-thead nav-link \">Tables without the thead tag</a>\\n\\t\\t\\t\\t\\t\\t\\t\\t</li>\\n\\t\\t\\t\\t\\t\\t\\t\\t<li class=\"nav-item\">\\n\\t\\t\\t\\t\\t\\t\\t\\t\\t<a href=\"/test-sites/tables/tables-multiple-header-rows\" class=\"table-nav-button button-multiple-headers nav-link \">Tables with multiple header rows</a>\\n\\t\\t\\t\\t\\t\\t\\t\\t</li>\\n\\t\\t\\t\\t\\t\\t\\t</ul>\\n\\t\\t\\t\\t\\t\\t</div>\\n\\t\\t\\t\\t\\t</div>\\n\\t\\t\\t\\t</div>\\n\\t\\t\\t\\t<div class=\"col-lg-9\">\\n\\t\\t\\t\\t\\t<div class=\"tables-all\">\\n\\n\\t\\t\\t\\t\\t\\t<div class=\"jumbotron tables-initial-text\">\\n\\t\\t\\t\\t\\t\\t\\t<h2>Table playground</h2>\\n\\t\\t\\t\\t\\t\\t\\t<p class=\"lead\">\\n\\t\\t\\t\\t\\t\\t\\t\\tYou can train using Table selector here.\\n\\t\\t\\t\\t\\t\\t\\t</p>\\n\\t\\t\\t\\t\\t\\t</div>\\n\\n\\t\\t\\t\\t\\t\\t\\t<div class=\"tables-semantically-correct\">\\n\\t\\t<h2>Semantically correct table with thead and tbody</h2>\\n\\t\\t<p>\\n\\t\\t\\tTable selector automatically detects header and data rows.\\n\\t\\t</p>\\n\\n\\t\\t<table class=\"table table-bordered\">\\n\\t\\t\\t<thead>\\n\\t\\t\\t<tr>\\n\\t\\t\\t\\t<th>#</th>\\n\\t\\t\\t\\t<th>First Name</th>\\n\\t\\t\\t\\t<th>Last Name</th>\\n\\t\\t\\t\\t<th>Username</th>\\n\\t\\t\\t</tr>\\n\\t\\t\\t</thead>\\n\\t\\t\\t<tbody>\\n\\t\\t\\t<tr>\\n\\t\\t\\t\\t<td>1</td>\\n\\t\\t\\t\\t<td>Mark</td>\\n\\t\\t\\t\\t<td>Otto</td>\\n\\t\\t\\t\\t<td>@mdo</td>\\n\\t\\t\\t</tr>\\n\\t\\t\\t<tr>\\n\\t\\t\\t\\t<td>2</td>\\n\\t\\t\\t\\t<td>Jacob</td>\\n\\t\\t\\t\\t<td>Thornton</td>\\n\\t\\t\\t\\t<td>@fat</td>\\n\\t\\t\\t</tr>\\n\\t\\t\\t<tr>\\n\\t\\t\\t\\t<td>3</td>\\n\\t\\t\\t\\t<td>Larry</td>\\n\\t\\t\\t\\t<td>the Bird</td>\\n\\t\\t\\t\\t<td>@twitter</td>\\n\\t\\t\\t</tr>\\n\\t\\t\\t</tbody>\\n\\t\\t</table>\\n\\n\\t\\t<table class=\"table table-bordered table-bordered2\">\\n\\t\\t\\t<thead>\\n\\t\\t\\t<tr>\\n\\t\\t\\t\\t<th>#</th>\\n\\t\\t\\t\\t<th>First Name</th>\\n\\t\\t\\t\\t<th>Last Name</th>\\n\\t\\t\\t\\t<th>Username</th>\\n\\t\\t\\t</tr>\\n\\t\\t\\t</thead>\\n\\t\\t\\t<tbody>\\n\\t\\t\\t<tr>\\n\\t\\t\\t\\t<td>4</td>\\n\\t\\t\\t\\t<td>Harry</td>\\n\\t\\t\\t\\t<td>Potter</td>\\n\\t\\t\\t\\t<td>@hp</td>\\n\\t\\t\\t</tr>\\n\\t\\t\\t<tr>\\n\\t\\t\\t\\t<td>5</td>\\n\\t\\t\\t\\t<td>John</td>\\n\\t\\t\\t\\t<td>Snow</td>\\n\\t\\t\\t\\t<td>@dunno</td>\\n\\t\\t\\t</tr>\\n\\t\\t\\t<tr>\\n\\t\\t\\t\\t<td>6</td>\\n\\t\\t\\t\\t<td>Tim</td>\\n\\t\\t\\t\\t<td>Bean</td>\\n\\t\\t\\t\\t<td>@timbean</td>\\n\\t\\t\\t</tr>\\n\\t\\t\\t</tbody>\\n\\t\\t</table>\\n\\t</div>\\n\\n\\t\\t\\t\\t\\t</div>\\n\\t\\t\\t\\t</div>\\n\\t\\t\\t</div>\\n\\t\\t</div>\\n\\t</div>\\n\\n\\t<div class=\"clearfix\"></div>\\n\\t<div class=\"push\"></div>\\n</div>\\n\\n<div class=\"container-fluid footer\" id=\"layout-footer\">\\n\\t<div class=\"container\">\\n\\t\\t<div class=\"row\">\\n\\t\\t\\t<div class=\"col-lg-3\">\\n\\t\\t\\t\\t<ul>\\n\\t\\t\\t\\t\\t<li><p>Products</p></li>\\n\\t\\t\\t\\t\\t<li>\\n\\t\\t\\t\\t\\t\\t<a href=\"/\">Web Scraper browser extension</a>\\n\\t\\t\\t\\t\\t</li>\\n\\t\\t\\t\\t\\t<li>\\n\\t\\t\\t\\t\\t\\t<a href=\"/cloud-scraper\">Web Scraper Cloud</a>\\n\\t\\t\\t\\t\\t</li>\\n\\t\\t\\t\\t</ul>\\n\\t\\t\\t</div>\\n\\t\\t\\t<div class=\"col-lg-3\">\\n\\t\\t\\t\\t<ul>\\n\\t\\t\\t\\t\\t<li><p>Company</p></li>\\n\\t\\t\\t\\t\\t<li>\\n\\t\\t\\t\\t\\t\\t<a href=\"/about-us\">About us</a>\\n\\t\\t\\t\\t\\t</li>\\n\\t\\t\\t\\t\\t<li>\\n\\t\\t\\t\\t\\t\\t<a href=\"/contact\">Contact</a>\\n\\t\\t\\t\\t\\t</li>\\n\\t\\t\\t\\t\\t<li>\\n\\t\\t\\t\\t\\t\\t<a href=\"/privacy-policy\">Website Privacy Policy</a>\\n\\t\\t\\t\\t\\t</li>\\n\\t\\t\\t\\t\\t<li>\\n\\t\\t\\t\\t\\t\\t<a href=\"/extension-privacy-policy\">Browser Extension Privacy Policy</a>\\n\\t\\t\\t\\t\\t</li>\\n\\t\\t\\t\\t\\t<li>\\n\\t\\t\\t\\t\\t\\t<a href=\"https://webscraper.io/downloads/Web_Scraper_Media_Kit.zip\">Media kit</a>\\n\\t\\t\\t\\t\\t</li>\\n\\t\\t\\t\\t\\t<li><a href=\"/jobs\">Jobs</a></li>\\n\\t\\t\\t\\t</ul>\\n\\t\\t\\t</div>\\n\\t\\t\\t<div class=\"col-lg-3\">\\n\\t\\t\\t\\t<ul>\\n\\t\\t\\t\\t\\t<li><p>Resources</p></li>\\n\\t\\t\\t\\t\\t<li><a href=\"/blog\">Blog</a></li>\\n\\t\\t\\t\\t\\t<li>\\n\\t\\t\\t\\t\\t\\t<a href=\"/documentation\">Documentation</a>\\n\\t\\t\\t\\t\\t</li>\\n\\t\\t\\t\\t\\t<li>\\n\\t\\t\\t\\t\\t\\t<a href=\"/tutorials\">Video Tutorials</a>\\n\\t\\t\\t\\t\\t</li>\\n\\t\\t\\t\\t\\t<li>\\n\\t\\t\\t\\t\\t\\t<a href=\"/screenshots\">Screenshots</a>\\n\\t\\t\\t\\t\\t</li>\\n\\t\\t\\t\\t\\t<li>\\n\\t\\t\\t\\t\\t\\t<a href=\"/test-sites\">Test Sites</a>\\n\\t\\t\\t\\t\\t</li>\\n\\t\\t\\t\\t\\t<li>\\n\\t\\t\\t\\t\\t\\t<a target=\"_blank\" href=\"https://forum.webscraper.io/\" rel=\"noopener\">Forum</a>\\n\\t\\t\\t\\t\\t</li>\\n\\t\\t\\t\\t\\t<li>\\n\\t\\t\\t\\t\\t\\t<a target=\"_blank\" href=\"https://status.webscraper.io/\" rel=\"noopener\">Status</a>\\n\\t\\t\\t\\t\\t</li>\\n\\t\\t\\t\\t</ul>\\n\\t\\t\\t</div>\\n\\t\\t\\t<div class=\"col-lg-3\">\\n\\t\\t\\t\\t<ul>\\n\\t\\t\\t\\t\\t<li><p>CONTACT US</p></li>\\n\\t\\t\\t\\t\\t<li>\\n\\t\\t\\t\\t\\t\\t<a href=\"mailto:info@webscraper.io\">info@webscraper.io</a>\\n\\t\\t\\t\\t\\t</li>\\n\\t\\t\\t\\t\\t<li>Ubelu 5-71,<br> Adazi, Latvia, LV-2164</li>\\n\\t\\t\\t\\t</ul>\\n\\t\\t\\t\\t<ul class=\"smedia\">\\n\\t\\t\\t\\t\\t<li>\\n\\t\\t\\t\\t\\t\\t<a href=\"https://www.facebook.com/webscraperio/\" target=\"_blank\" rel=\"noopener\" aria-label=\"Web Scraper on Facebook\">\\n\\t\\t\\t\\t\\t\\t\\t<i class=\"ws-icon ws-icon-facebook-f\"></i>\\n\\t\\t\\t\\t\\t\\t</a>\\n\\t\\t\\t\\t\\t</li>\\n\\t\\t\\t\\t\\t<li>\\n\\t\\t\\t\\t\\t\\t<a href=\"https://twitter.com/webscraperio\" target=\"_blank\" rel=\"noopener\" aria-label=\"Web Scraper on X\">\\n\\t\\t\\t\\t\\t\\t\\t<i class=\"ws-icon ws-icon-twitter\"></i>\\n\\t\\t\\t\\t\\t\\t</a>\\n\\t\\t\\t\\t\\t</li>\\n\\t\\t\\t\\t\\t<li>\\n\\t\\t\\t\\t\\t\\t<a href=\"https://lv.linkedin.com/company/web-scraper\" target=\"_blank\" rel=\"noopener\" aria-label=\"Web Scraper on LinkedIn\">\\n\\t\\t\\t\\t\\t\\t\\t<i class=\"ws-icon ws-icon-linkedin\"></i>\\n\\t\\t\\t\\t\\t\\t</a>\\n\\t\\t\\t\\t\\t</li>\\n\\t\\t\\t\\t\\t<li>\\n\\t\\t\\t\\t\\t\\t<a href=\"https://youtube.com/@WebScraper/videos\" target=\"_blank\" rel=\"noopener\" aria-label=\"Web Scraper on Youtube\">\\n\\t\\t\\t\\t\\t\\t\\t<i class=\"ws-icon ws-icon-youtube\"></i>\\n\\t\\t\\t\\t\\t\\t</a>\\n\\t\\t\\t\\t\\t</li>\\n\\t\\t\\t\\t\\t<li>\\n\\t\\t\\t\\t\\t\\t<a class=\"install-extension browser-icon-dark\" href=\"https://chromewebstore.google.com/detail/web-scraper-free-web-scra/jnhgnonknehpejjnehehllkliplmbmhn?hl=en\" target=\"_blank\" rel=\"noopener\" aria-label=\"Download the Web Scraper extension\">\\n\\t\\t\\t\\t\\t\\t\\t<i class=\"ws-icon ws-icon-chrome-dark\"></i>\\n\\t\\t\\t\\t\\t\\t</a>\\n\\t\\t\\t\\t\\t</li>\\n\\t\\t\\t\\t</ul>\\n\\t\\t\\t</div>\\n\\t\\t</div>\\n\\t\\t<div class=\"row\">\\n\\t\\t\\t<div class=\"col-lg-12\">\\n\\t\\t\\t\\t<p class=\"copyright\">Copyright &copy 2024\\n\\t\\t\\t\\t\\t<b>Web Scraper</b> | All rights reserved</p>\\n\\t\\t\\t</div>\\n\\t\\t</div>\\n\\t</div>\\n</div>\\n\\n\\n</body>\\n</html>\\n'\n"
     ]
    }
   ],
   "source": [
    "#  conda install -c conda-forge urllib3   # command to install\n",
    "import urllib3\n",
    "http = urllib3.PoolManager()\n",
    "import re\n",
    "url_=\"https://webscraper.io/test-sites/tables\"\n",
    "r = http.request('GET',url_ )\n",
    "print(\"Status \" , r.status)\n",
    "print(\"rdata = \" , r.data)"
   ]
  },
  {
   "cell_type": "markdown",
   "id": "dadaeb27",
   "metadata": {
    "slideshow": {
     "slide_type": "slide"
    }
   },
   "source": [
    "##  Two complications\n",
    "*  The function downloads the data in binary format\n",
    "* The binary format https://www.w3resource.com/python/python-bytes.php#byte-string which needs to be converted to a string.\n",
    "* Also the document contains information about the format of the document. Tags from HTML."
   ]
  },
  {
   "cell_type": "code",
   "execution_count": 23,
   "id": "d1f5594b",
   "metadata": {},
   "outputs": [
    {
     "name": "stdout",
     "output_type": "stream",
     "text": [
      "<class 'bytes'>\n",
      "<!DOCTYPE html>\n",
      "<html lang=\"en\">\n",
      "<head>\n",
      "\t<!-- Google Tag Manager -->\n",
      "<script nonce=\"zuUekavuHNJgO0TdZ5yv0twMYS25KOWl\">(function (w, d, s, l, i) {\n",
      "\t\tw[l] = w[l] || [];\n",
      "\t\tw[l].push({\n",
      "\t\t\t'gtm.start':\n",
      "\t\t\t\tnew Date().getTime(), event: 'gtm.js'\n",
      "\t\t});\n",
      "\t\tvar f = d.getElementsByTagName(s)[0],\n",
      "\t\t\tj = d.createElement(s), dl = l != 'dataLayer' ? '&l=' + l : '';\n",
      "\t\tj.async = true;\n",
      "\t\tj.src =\n",
      "\t\t\t'https://www.googletagmanager.com/gtm.js?id=' + i + dl;\n",
      "\t\tf.parentNode.insertBefore(j, f);\n",
      "\t})(window, document, 'script', 'dataLayer', 'GTM-NVFPDWB');</script>\n",
      "<!-- End Google Tag Manager -->\n",
      "\t<title>Table Playground | Web Scraper Test Sites</title>\n",
      "\t<meta charset=\"utf-8\">\n",
      "\t<meta http-equiv=\"X-UA-Compatible\" content=\"IE=edge,chrome=1\">\n",
      "\n",
      "\t<meta name=\"keywords\"\n",
      "\t\t  content=\"web scraping,Web Scraper,Chrome extension,Crawling,Cross platform scraper\"/>\n",
      "\t<meta name=\"description\"\n",
      "\t\t  content=\"The most popular web scraping extension. Start scraping in minutes. Automate your tasks with our Cloud Scraper. No software to download, no coding needed.\"/>\n",
      "\t<link rel=\"icon\" sizes=\"128x128\" href=\"/favicon.png\">\n",
      "\n",
      "\t<meta name=\"viewport\" content=\"width=device-width, initial-scale=1.0\">\n",
      "\t\n",
      "\t<link rel=\"preconnect\" href=\"https://fonts.googleapis.com\">\n",
      "\t<link rel=\"preconnect\" href=\"https://fonts.gstatic.com\" crossorigin>\n",
      "\t<link href=\"https://fonts.googleapis.com/css2?family=Roboto:wght@400;500;600&display=swap\" rel=\"stylesheet\">\n",
      "\t<link href=\"https://fonts.googleapis.com/css2?family=Montserrat:wght@300;400;500;600;700;900&display=swap\" rel=\"stylesheet\">\n",
      "\n",
      "\t<link rel=\"stylesheet\" href=\"/css/app.css?id=27e489f6a16ba172752249d454053a2a\">\n",
      "\t<link rel=\"stylesheet\" href=\"/css/ws-icons.font.css?id=8f2c6b77e3c33bbc1183eeae2ae24269\">\n",
      "\n",
      "\t<link rel=\"canonical\" href=\"https://webscraper.io/test-sites/tables\">\n",
      "\t<link rel=\"apple-touch-icon\" href=\"/img/logo-icon.png\">\n",
      "\n",
      "\t<script defer src=\"/js/app.js?id=a50a1127238ba3432d5a265183ff9557\"></script>\n",
      "\n",
      "\t\n",
      "</head>\n",
      "<body>\n",
      "<!-- Google Tag Manager (noscript) -->\n",
      "<noscript>\n",
      "\t<iframe src=\"https://www.googletagmanager.com/ns.html?id=GTM-NVFPDWB\"\n",
      "\t        height=\"0\" width=\"0\" style=\"display:none;visibility:hidden\"></iframe>\n",
      "</noscript>\n",
      "<!-- End Google Tag Manager (noscript) -->\n",
      "<header role=\"banner\" class=\"navbar fixed-top navbar-expand-lg navbar-dark navbar-static svg-background\" id=\"navbar-top\">\n",
      "\t<div class=\"container\">\n",
      "\n",
      "\t\t<div class=\"navbar-header\">\n",
      "\n",
      "\t\t\t<a data-bs-toggle=\"collapse-side\" data-bs-target=\".side-collapse\" data-bs-target-2=\".side-collapse-container\">\n",
      "\t\t\t\t<button type=\"button\" class=\"navbar-toggler float-end collapsed\" data-bs-toggle=\"collapse\"\n",
      "\t\t\t\t\t\tdata-bs-target=\"#navbar\" data-bs-target-2=\".side-collapse-container\" data-bs-target-3=\".side-collapse\"\n",
      "\t\t\t\t\t\taria-expanded=\"false\" aria-controls=\"navbar\">\n",
      "\n",
      "\t\t\t\t\t<span class=\"visually-hidden\">Toggle navigation</span>\n",
      "\t\t\t\t\t<span class=\"icon-bar top-bar\"></span>\n",
      "\t\t\t\t\t<span class=\"icon-bar middle-bar\"></span>\n",
      "\t\t\t\t\t<span class=\"icon-bar bottom-bar\"></span>\n",
      "\t\t\t\t\t<span class=\"icon-bar extra-bottom-bar\"></span>\n",
      "\n",
      "\t\t\t\t</button>\n",
      "\t\t\t</a>\n",
      "\t\t\t<div class=\"navbar-brand\">\n",
      "\t\t\t\t<a href=\"/\"><img src=\"/img/logo_white.svg\" alt=\"Web Scraper\"></a>\n",
      "\t\t\t</div>\n",
      "\t\t</div>\n",
      "\n",
      "\t\t<div class=\"side-collapse in\">\n",
      "\t\t\t<nav id=\"navbar\" role=\"navigation\" class=\"navbar-collapse collapse\">\n",
      "\t\t\t\t<ul class=\"nav navbar-nav navbar-right\">\n",
      "\t\t\t\t\t<li class=\"nav-item\">\n",
      "\t\t\t\t\t\t<a href=\"/\" class=\"nav-link menuitm\">\n",
      "\t\t\t\t\t\t\t<p>Web Scraper</p>\n",
      "\t\t\t\t\t\t\t<div class=\"crta\"></div>\n",
      "\t\t\t\t\t\t</a>\n",
      "\t\t\t\t\t</li>\n",
      "\t\t\t\t\t<li class=\"nav-item\">\n",
      "\t\t\t\t\t\t<a href=\"/cloud-scraper\" class=\"nav-link menuitm\" id=\"cloud-nav-link\">\n",
      "\t\t\t\t\t\t\t<p>Cloud Scraper</p>\n",
      "\t\t\t\t\t\t\t<div class=\"crta\"></div>\n",
      "\t\t\t\t\t\t</a>\n",
      "\t\t\t\t\t</li>\n",
      "\t\t\t\t\t<li class=\"nav-item\">\n",
      "\t\t\t\t\t\t<a href=\"/pricing\" class=\"nav-link menuitm\" id=\"pricing-nav-link\">\n",
      "\t\t\t\t\t\t\t<p>Pricing</p>\n",
      "\t\t\t\t\t\t\t<div class=\"crta\"></div>\n",
      "\t\t\t\t\t\t</a>\n",
      "\t\t\t\t\t</li>\n",
      "\t\t\t\t\t<li class=\"nav-item dropdown\">\n",
      "\t\t\t\t\t\t<button class=\"menuitm nav-link dropdown-toggle\" id=\"dropdownMenuLink\" role=\"button\" data-bs-toggle=\"dropdown\" aria-haspopup=\"true\" aria-expanded=\"false\">\n",
      "\t\t\t\t\t\t\t<p>Learn</p>\n",
      "\t\t\t\t\t\t\t<span class=\"crta\"></span>\n",
      "\t\t\t\t\t\t</button>\n",
      "\t\t\t\t\t\t<ul class=\"dropdown-menu\" aria-labelledby=\"dropdownMenuLink\">\n",
      "\t\t\t\t\t\t\t<li>\n",
      "\t\t\t\t\t\t\t\t<a href=\"/documentation\" class=\"dropdown-item\">Documentation</a>\n",
      "\t\t\t\t\t\t\t</li>\n",
      "\t\t\t\t\t\t\t<li>\n",
      "\t\t\t\t\t\t\t\t<a href=\"/tutorials\" class=\"dropdown-item\">Video Tutorials</a>\n",
      "\t\t\t\t\t\t\t</li>\n",
      "\t\t\t\t\t\t\t<li>\n",
      "\t\t\t\t\t\t\t\t<a href=\"/how-to-videos\" class=\"dropdown-item\">How to</a>\n",
      "\t\t\t\t\t\t\t</li>\n",
      "\t\t\t\t\t\t\t<li>\n",
      "\t\t\t\t\t\t\t\t<a href=\"/test-sites\" class=\"dropdown-item\">Test Sites</a>\n",
      "\t\t\t\t\t\t\t</li>\n",
      "\t\t\t\t\t\t\t<li>\n",
      "\t\t\t\t\t\t\t\t<a href=\"https://forum.webscraper.io/\" target=\"_blank\" rel=\"noopener\" class=\"dropdown-item\">Forum</a>\n",
      "\t\t\t\t\t\t\t</li>\n",
      "\t\t\t\t\t\t</ul>\n",
      "\t\t\t\t\t</li>\n",
      "\t\t\t\t\t<li class=\"nav-item\">\n",
      "\t\t\t\t\t\t<a href=\"https://chromewebstore.google.com/detail/web-scraper-free-web-scra/jnhgnonknehpejjnehehllkliplmbmhn?hl=en\" target=\"_blank\" class=\"nav-link btn-menu1 install-extension\">Install</a>\n",
      "\t\t\t\t\t</li>\n",
      "\t\t\t\t\t<li class=\"nav-item\">\n",
      "\t\t\t\t\t\t<a href=\"https://cloud.webscraper.io/\" class=\"nav-link btn-menu2\">Cloud Login</a>\n",
      "\t\t\t\t\t</li>\n",
      "\t\t\t\t</ul>\n",
      "\t\t\t</nav>\n",
      "\t\t</div>\n",
      "\t</div>\n",
      "</header>\n",
      "\n",
      "<div class=\"wrapper\">\n",
      "\t\n",
      "\t<div class=\"formenu-here container-fluid\">\n",
      "\n",
      "\t</div>\n",
      "\t<div class=\"container-fluid blog-hero\">\n",
      "\t\t<div class=\"container\">\n",
      "\t\t\t<div class=\"row\">\n",
      "\t\t\t\t<div class=\"col-lg-12\">\n",
      "\t\t\t\t\t<h1>Test Sites</h1>\n",
      "\t\t\t\t</div>\n",
      "\t\t\t</div>\n",
      "\t\t</div>\n",
      "\t</div>\n",
      "\n",
      "\t<div class=\"container\">\n",
      "\t\t<div class=\"test-site\">\n",
      "\t\t\t<div class=\"row\">\n",
      "\t\t\t\t<div class=\"col-lg-3 sidebar\">\n",
      "\t\t\t\t\t<div class=\"navbar-light sidebar\" role=\"navigation\">\n",
      "\t\t\t\t\t\t<div class=\"sidebar-nav navbar-collapse\">\n",
      "\t\t\t\t\t\t\t<ul class=\"nav flex-column tables-nav\" id=\"side-menu\">\n",
      "\t\t\t\t\t\t\t\t<li class=\"nav-item\">\n",
      "\t\t\t\t\t\t\t\t\t<a href=\"/test-sites/tables/tables-semantically-correct\" class=\"table-nav-button semantically-correct-button nav-link  active \">Semantically correct tables</a>\n",
      "\t\t\t\t\t\t\t\t</li>\n",
      "\t\t\t\t\t\t\t\t<li class=\"nav-item\">\n",
      "\t\t\t\t\t\t\t\t\t<a href=\"/test-sites/tables/tables-without-thead\" class=\"table-nav-button button-without-thead nav-link \">Tables without the thead tag</a>\n",
      "\t\t\t\t\t\t\t\t</li>\n",
      "\t\t\t\t\t\t\t\t<li class=\"nav-item\">\n",
      "\t\t\t\t\t\t\t\t\t<a href=\"/test-sites/tables/tables-multiple-header-rows\" class=\"table-nav-button button-multiple-headers nav-link \">Tables with multiple header rows</a>\n",
      "\t\t\t\t\t\t\t\t</li>\n",
      "\t\t\t\t\t\t\t</ul>\n",
      "\t\t\t\t\t\t</div>\n",
      "\t\t\t\t\t</div>\n",
      "\t\t\t\t</div>\n",
      "\t\t\t\t<div class=\"col-lg-9\">\n",
      "\t\t\t\t\t<div class=\"tables-all\">\n",
      "\n",
      "\t\t\t\t\t\t<div class=\"jumbotron tables-initial-text\">\n",
      "\t\t\t\t\t\t\t<h2>Table playground</h2>\n",
      "\t\t\t\t\t\t\t<p class=\"lead\">\n",
      "\t\t\t\t\t\t\t\tYou can train using Table selector here.\n",
      "\t\t\t\t\t\t\t</p>\n",
      "\t\t\t\t\t\t</div>\n",
      "\n",
      "\t\t\t\t\t\t\t<div class=\"tables-semantically-correct\">\n",
      "\t\t<h2>Semantically correct table with thead and tbody</h2>\n",
      "\t\t<p>\n",
      "\t\t\tTable selector automatically detects header and data rows.\n",
      "\t\t</p>\n",
      "\n",
      "\t\t<table class=\"table table-bordered\">\n",
      "\t\t\t<thead>\n",
      "\t\t\t<tr>\n",
      "\t\t\t\t<th>#</th>\n",
      "\t\t\t\t<th>First Name</th>\n",
      "\t\t\t\t<th>Last Name</th>\n",
      "\t\t\t\t<th>Username</th>\n",
      "\t\t\t</tr>\n",
      "\t\t\t</thead>\n",
      "\t\t\t<tbody>\n",
      "\t\t\t<tr>\n",
      "\t\t\t\t<td>1</td>\n",
      "\t\t\t\t<td>Mark</td>\n",
      "\t\t\t\t<td>Otto</td>\n",
      "\t\t\t\t<td>@mdo</td>\n",
      "\t\t\t</tr>\n",
      "\t\t\t<tr>\n",
      "\t\t\t\t<td>2</td>\n",
      "\t\t\t\t<td>Jacob</td>\n",
      "\t\t\t\t<td>Thornton</td>\n",
      "\t\t\t\t<td>@fat</td>\n",
      "\t\t\t</tr>\n",
      "\t\t\t<tr>\n",
      "\t\t\t\t<td>3</td>\n",
      "\t\t\t\t<td>Larry</td>\n",
      "\t\t\t\t<td>the Bird</td>\n",
      "\t\t\t\t<td>@twitter</td>\n",
      "\t\t\t</tr>\n",
      "\t\t\t</tbody>\n",
      "\t\t</table>\n",
      "\n",
      "\t\t<table class=\"table table-bordered table-bordered2\">\n",
      "\t\t\t<thead>\n",
      "\t\t\t<tr>\n",
      "\t\t\t\t<th>#</th>\n",
      "\t\t\t\t<th>First Name</th>\n",
      "\t\t\t\t<th>Last Name</th>\n",
      "\t\t\t\t<th>Username</th>\n",
      "\t\t\t</tr>\n",
      "\t\t\t</thead>\n",
      "\t\t\t<tbody>\n",
      "\t\t\t<tr>\n",
      "\t\t\t\t<td>4</td>\n",
      "\t\t\t\t<td>Harry</td>\n",
      "\t\t\t\t<td>Potter</td>\n",
      "\t\t\t\t<td>@hp</td>\n",
      "\t\t\t</tr>\n",
      "\t\t\t<tr>\n",
      "\t\t\t\t<td>5</td>\n",
      "\t\t\t\t<td>John</td>\n",
      "\t\t\t\t<td>Snow</td>\n",
      "\t\t\t\t<td>@dunno</td>\n",
      "\t\t\t</tr>\n",
      "\t\t\t<tr>\n",
      "\t\t\t\t<td>6</td>\n",
      "\t\t\t\t<td>Tim</td>\n",
      "\t\t\t\t<td>Bean</td>\n",
      "\t\t\t\t<td>@timbean</td>\n",
      "\t\t\t</tr>\n",
      "\t\t\t</tbody>\n",
      "\t\t</table>\n",
      "\t</div>\n",
      "\n",
      "\t\t\t\t\t</div>\n",
      "\t\t\t\t</div>\n",
      "\t\t\t</div>\n",
      "\t\t</div>\n",
      "\t</div>\n",
      "\n",
      "\t<div class=\"clearfix\"></div>\n",
      "\t<div class=\"push\"></div>\n",
      "</div>\n",
      "\n",
      "<div class=\"container-fluid footer\" id=\"layout-footer\">\n",
      "\t<div class=\"container\">\n",
      "\t\t<div class=\"row\">\n",
      "\t\t\t<div class=\"col-lg-3\">\n",
      "\t\t\t\t<ul>\n",
      "\t\t\t\t\t<li><p>Products</p></li>\n",
      "\t\t\t\t\t<li>\n",
      "\t\t\t\t\t\t<a href=\"/\">Web Scraper browser extension</a>\n",
      "\t\t\t\t\t</li>\n",
      "\t\t\t\t\t<li>\n",
      "\t\t\t\t\t\t<a href=\"/cloud-scraper\">Web Scraper Cloud</a>\n",
      "\t\t\t\t\t</li>\n",
      "\t\t\t\t</ul>\n",
      "\t\t\t</div>\n",
      "\t\t\t<div class=\"col-lg-3\">\n",
      "\t\t\t\t<ul>\n",
      "\t\t\t\t\t<li><p>Company</p></li>\n",
      "\t\t\t\t\t<li>\n",
      "\t\t\t\t\t\t<a href=\"/about-us\">About us</a>\n",
      "\t\t\t\t\t</li>\n",
      "\t\t\t\t\t<li>\n",
      "\t\t\t\t\t\t<a href=\"/contact\">Contact</a>\n",
      "\t\t\t\t\t</li>\n",
      "\t\t\t\t\t<li>\n",
      "\t\t\t\t\t\t<a href=\"/privacy-policy\">Website Privacy Policy</a>\n",
      "\t\t\t\t\t</li>\n",
      "\t\t\t\t\t<li>\n",
      "\t\t\t\t\t\t<a href=\"/extension-privacy-policy\">Browser Extension Privacy Policy</a>\n",
      "\t\t\t\t\t</li>\n",
      "\t\t\t\t\t<li>\n",
      "\t\t\t\t\t\t<a href=\"https://webscraper.io/downloads/Web_Scraper_Media_Kit.zip\">Media kit</a>\n",
      "\t\t\t\t\t</li>\n",
      "\t\t\t\t\t<li><a href=\"/jobs\">Jobs</a></li>\n",
      "\t\t\t\t</ul>\n",
      "\t\t\t</div>\n",
      "\t\t\t<div class=\"col-lg-3\">\n",
      "\t\t\t\t<ul>\n",
      "\t\t\t\t\t<li><p>Resources</p></li>\n",
      "\t\t\t\t\t<li><a href=\"/blog\">Blog</a></li>\n",
      "\t\t\t\t\t<li>\n",
      "\t\t\t\t\t\t<a href=\"/documentation\">Documentation</a>\n",
      "\t\t\t\t\t</li>\n",
      "\t\t\t\t\t<li>\n",
      "\t\t\t\t\t\t<a href=\"/tutorials\">Video Tutorials</a>\n",
      "\t\t\t\t\t</li>\n",
      "\t\t\t\t\t<li>\n",
      "\t\t\t\t\t\t<a href=\"/screenshots\">Screenshots</a>\n",
      "\t\t\t\t\t</li>\n",
      "\t\t\t\t\t<li>\n",
      "\t\t\t\t\t\t<a href=\"/test-sites\">Test Sites</a>\n",
      "\t\t\t\t\t</li>\n",
      "\t\t\t\t\t<li>\n",
      "\t\t\t\t\t\t<a target=\"_blank\" href=\"https://forum.webscraper.io/\" rel=\"noopener\">Forum</a>\n",
      "\t\t\t\t\t</li>\n",
      "\t\t\t\t\t<li>\n",
      "\t\t\t\t\t\t<a target=\"_blank\" href=\"https://status.webscraper.io/\" rel=\"noopener\">Status</a>\n",
      "\t\t\t\t\t</li>\n",
      "\t\t\t\t</ul>\n",
      "\t\t\t</div>\n",
      "\t\t\t<div class=\"col-lg-3\">\n",
      "\t\t\t\t<ul>\n",
      "\t\t\t\t\t<li><p>CONTACT US</p></li>\n",
      "\t\t\t\t\t<li>\n",
      "\t\t\t\t\t\t<a href=\"mailto:info@webscraper.io\">info@webscraper.io</a>\n",
      "\t\t\t\t\t</li>\n",
      "\t\t\t\t\t<li>Ubelu 5-71,<br> Adazi, Latvia, LV-2164</li>\n",
      "\t\t\t\t</ul>\n",
      "\t\t\t\t<ul class=\"smedia\">\n",
      "\t\t\t\t\t<li>\n",
      "\t\t\t\t\t\t<a href=\"https://www.facebook.com/webscraperio/\" target=\"_blank\" rel=\"noopener\" aria-label=\"Web Scraper on Facebook\">\n",
      "\t\t\t\t\t\t\t<i class=\"ws-icon ws-icon-facebook-f\"></i>\n",
      "\t\t\t\t\t\t</a>\n",
      "\t\t\t\t\t</li>\n",
      "\t\t\t\t\t<li>\n",
      "\t\t\t\t\t\t<a href=\"https://twitter.com/webscraperio\" target=\"_blank\" rel=\"noopener\" aria-label=\"Web Scraper on X\">\n",
      "\t\t\t\t\t\t\t<i class=\"ws-icon ws-icon-twitter\"></i>\n",
      "\t\t\t\t\t\t</a>\n",
      "\t\t\t\t\t</li>\n",
      "\t\t\t\t\t<li>\n",
      "\t\t\t\t\t\t<a href=\"https://lv.linkedin.com/company/web-scraper\" target=\"_blank\" rel=\"noopener\" aria-label=\"Web Scraper on LinkedIn\">\n",
      "\t\t\t\t\t\t\t<i class=\"ws-icon ws-icon-linkedin\"></i>\n",
      "\t\t\t\t\t\t</a>\n",
      "\t\t\t\t\t</li>\n",
      "\t\t\t\t\t<li>\n",
      "\t\t\t\t\t\t<a href=\"https://youtube.com/@WebScraper/videos\" target=\"_blank\" rel=\"noopener\" aria-label=\"Web Scraper on Youtube\">\n",
      "\t\t\t\t\t\t\t<i class=\"ws-icon ws-icon-youtube\"></i>\n",
      "\t\t\t\t\t\t</a>\n",
      "\t\t\t\t\t</li>\n",
      "\t\t\t\t\t<li>\n",
      "\t\t\t\t\t\t<a class=\"install-extension browser-icon-dark\" href=\"https://chromewebstore.google.com/detail/web-scraper-free-web-scra/jnhgnonknehpejjnehehllkliplmbmhn?hl=en\" target=\"_blank\" rel=\"noopener\" aria-label=\"Download the Web Scraper extension\">\n",
      "\t\t\t\t\t\t\t<i class=\"ws-icon ws-icon-chrome-dark\"></i>\n",
      "\t\t\t\t\t\t</a>\n",
      "\t\t\t\t\t</li>\n",
      "\t\t\t\t</ul>\n",
      "\t\t\t</div>\n",
      "\t\t</div>\n",
      "\t\t<div class=\"row\">\n",
      "\t\t\t<div class=\"col-lg-12\">\n",
      "\t\t\t\t<p class=\"copyright\">Copyright &copy 2024\n",
      "\t\t\t\t\t<b>Web Scraper</b> | All rights reserved</p>\n",
      "\t\t\t</div>\n",
      "\t\t</div>\n",
      "\t</div>\n",
      "</div>\n",
      "\n",
      "\n",
      "</body>\n",
      "</html>\n",
      "\n"
     ]
    }
   ],
   "source": [
    "import urllib3\n",
    "http = urllib3.PoolManager()\n",
    "url_=\"https://webscraper.io/test-sites/tables\"\n",
    "r = http.request('GET', url_ )\n",
    "print(type(r.data))\n",
    "rr = r.data.decode('utf-8')\n",
    "print(rr)\n",
    "#type(2)"
   ]
  },
  {
   "cell_type": "markdown",
   "id": "41b85509",
   "metadata": {
    "slideshow": {
     "slide_type": "slide"
    }
   },
   "source": [
    "![acsi](https://github.com/cmcneile/COMP5000-2022-lectures/blob/main/asci.png?raw=true)"
   ]
  },
  {
   "cell_type": "markdown",
   "id": "62bc06ee",
   "metadata": {
    "slideshow": {
     "slide_type": "slide"
    }
   },
   "source": [
    "![unicodeA](https://github.com/cmcneile/COMP5000-2022-lectures/blob/main/unicode_A.png?raw=true)"
   ]
  },
  {
   "cell_type": "markdown",
   "id": "b5aa4405",
   "metadata": {
    "slideshow": {
     "slide_type": "slide"
    }
   },
   "source": [
    "![unicodeB](https://github.com/cmcneile/COMP5000-2022-lectures/blob/main/unicode_B.png?raw=true)"
   ]
  },
  {
   "cell_type": "markdown",
   "id": "861e4907",
   "metadata": {
    "slideshow": {
     "slide_type": "slide"
    }
   },
   "source": [
    "##  Next version of the code\n",
    "* We can loop over the lines in the document\n",
    "* The goal is to search for user names  @mdo so we match lines containing @"
   ]
  },
  {
   "cell_type": "code",
   "execution_count": 26,
   "id": "aa793f39",
   "metadata": {},
   "outputs": [
    {
     "name": "stdout",
     "output_type": "stream",
     "text": [
      "\t<link href=\"https://fonts.googleapis.com/css2?family=Roboto:wght@400;500;600&display=swap\" rel=\"stylesheet\">\n",
      "\t<link href=\"https://fonts.googleapis.com/css2?family=Montserrat:wght@300;400;500;600;700;900&display=swap\" rel=\"stylesheet\">\n",
      "\t\t\t\t<td>@mdo</td>\n",
      "\t\t\t\t<td>@fat</td>\n",
      "\t\t\t\t<td>@twitter</td>\n",
      "\t\t\t\t<td>@hp</td>\n",
      "\t\t\t\t<td>@dunno</td>\n",
      "\t\t\t\t<td>@timbean</td>\n",
      "\t\t\t\t\t\t<a href=\"mailto:info@webscraper.io\">info@webscraper.io</a>\n",
      "\t\t\t\t\t\t<a href=\"https://youtube.com/@WebScraper/videos\" target=\"_blank\" rel=\"noopener\" aria-label=\"Web Scraper on Youtube\">\n"
     ]
    }
   ],
   "source": [
    "import urllib3\n",
    "import re\n",
    "http = urllib3.PoolManager()\n",
    "url_=\"https://webscraper.io/test-sites/tables\"\n",
    "\n",
    "r = http.request('GET', url_ )\n",
    "rr = r.data.decode('utf-8')\n",
    "\n",
    "\n",
    "##sys.exit(1)\n",
    "rrr = rr.split(\"\\n\") # recall \\n is the new line\n",
    "# rrr is a list with each line \n",
    "for ll in rrr :\n",
    "    if re.search(\"@\",ll) :\n",
    "        print(ll)\n"
   ]
  },
  {
   "cell_type": "markdown",
   "id": "d9b3c402",
   "metadata": {
    "slideshow": {
     "slide_type": "slide"
    }
   },
   "source": [
    "##  Background to HTML\n",
    "\n",
    "* HTML (Hyper Text Mark up Language) is a mark up langauge.  https://www.w3schools.com/html/\n",
    "*There many other markup languages such as YAML https://en.wikipedia.org/wiki/YAML and XML. \n",
    "\n",
    "The tags are used to tell the browser how to display the document\n",
    "(eg. section headings or bullet points.)\n",
    "\n",
    "\n",
    "* $<p> </p>$   new paragraph\n",
    "* $<li>$   bullet point\n",
    "* $<h1> </h1>$   section heading\n",
    "\n",
    "\n",
    "When we are extracting information from the textfile we mostly\n",
    "want to remove the tags\n"
   ]
  },
  {
   "cell_type": "markdown",
   "id": "8f17fd82",
   "metadata": {
    "slideshow": {
     "slide_type": "slide"
    }
   },
   "source": [
    "##  Solution\n",
    "* The goal was to download the usernames such as @mdo\n",
    "* We need to get rid of additional text such as $<td>$"
   ]
  },
  {
   "cell_type": "code",
   "execution_count": 29,
   "id": "0a6fbb69",
   "metadata": {},
   "outputs": [
    {
     "name": "stdout",
     "output_type": "stream",
     "text": [
      "@mdo\n",
      "@fat\n",
      "@twitter\n",
      "@hp\n",
      "@dunno\n",
      "@timbean\n"
     ]
    }
   ],
   "source": [
    "import sys\n",
    "import urllib3\n",
    "import re\n",
    "http = urllib3.PoolManager()\n",
    "url_=\"https://webscraper.io/test-sites/tables\"\n",
    "r = http.request('GET', url_ )\n",
    "rr = r.data.decode('utf-8')\n",
    "rrr = rr.split(\"\\n\") # recall \\n is the new line\n",
    "# rrr is a list with each line \n",
    "for ll in rrr :\n",
    "    if re.search(\"<td>@\",ll) :\n",
    "        ll = re.sub(\"<td>\",\"\", ll)\n",
    "        ll = re.sub(\"</td>\",\"\", ll)\n",
    "        ll = ll.strip()\n",
    "        print(ll)\n"
   ]
  },
  {
   "cell_type": "markdown",
   "id": "18fa3bac",
   "metadata": {},
   "source": [
    "We now have the list of user IDs"
   ]
  },
  {
   "cell_type": "markdown",
   "id": "1121c51a",
   "metadata": {
    "slideshow": {
     "slide_type": "slide"
    }
   },
   "source": [
    "## Summary of the process\n",
    "\n",
    "How to write python code to solve these ``small problems''.\n",
    "\n",
    "\n",
    "\n",
    "* Break the problem into small steps\n",
    "* Develop python code for each small step, by mapping problem into small parts of python.\n",
    "    * Loops:  for, while, or ....\n",
    "    *  Data structures: variables, lists, dictionaries, or ..\n",
    "    * Functions, ..\n",
    "* For specialized tasks, you also need to find an appropriate module. For example, we needed a function to download the web page.\n",
    "* When I have a first draft of a script, I often improve it. Writing code is an iterative proces -- particulary for web scraping.\n"
   ]
  },
  {
   "cell_type": "markdown",
   "id": "2012f89e",
   "metadata": {
    "slideshow": {
     "slide_type": "slide"
    }
   },
   "source": [
    "## Another solution\n",
    "\n",
    "* A potentially better library for scraping web pages is **Beautifulsoup**\n",
    "*  https://www.crummy.com/software/BeautifulSoup/ Beautiful Soup can help work HTML documents downloaded from web pages\n"
   ]
  },
  {
   "cell_type": "code",
   "execution_count": 24,
   "id": "3b57f2d2",
   "metadata": {
    "slideshow": {
     "slide_type": "slide"
    }
   },
   "outputs": [
    {
     "name": "stdout",
     "output_type": "stream",
     "text": [
      "@mdo\n",
      "@fat\n",
      "@twitter\n",
      "@hp\n",
      "@dunno\n",
      "@timbean\n"
     ]
    }
   ],
   "source": [
    "import requests\n",
    "from bs4 import BeautifulSoup\n",
    "import re\n",
    "\n",
    "URL = \"https://webscraper.io/test-sites/tables\"\n",
    "page = requests.get(URL)\n",
    "soup = BeautifulSoup(page.content, \"html.parser\")\n",
    "\n",
    "H2s = soup.find_all(\"td\")\n",
    "for h2 in H2s:\n",
    "    ll = h2.text\n",
    "    if re.search(\"@\",ll) :\n",
    "         print(ll)\n"
   ]
  },
  {
   "cell_type": "markdown",
   "id": "cf138043",
   "metadata": {
    "slideshow": {
     "slide_type": "slide"
    }
   },
   "source": [
    "##  Final comments on web scraping\n",
    "\n",
    "* The beautifulsoup web scraping code is a bit simpler than my first version\n",
    "* See this review of web scraping using python  https://www.scrapingbee.com/blog/web-scraping-101-with-python/\n",
    "\n",
    "* web sites are now used as training data for Large Language Models.\n"
   ]
  },
  {
   "cell_type": "markdown",
   "id": "a7699d3c",
   "metadata": {
    "slideshow": {
     "slide_type": "slide"
    }
   },
   "source": [
    "##  Semantic web\n",
    "<blockquote>\n",
    "I have a dream for the Web [in which computers] become capable of analyzing all the data on the Web – the content, links, and transactions between people and computers. A \"Semantic Web\", which makes this possible, has yet to emerge, but when it does, the day-to-day mechanisms of trade, bureaucracy and our daily lives will be handled by machines talking to machines. The \"intelligent agents\" people have touted for ages will finally materialize\n",
    "</blockquote>\n",
    "Berners-Lee originally expressed his vision of the Semantic Web in 1999 \n",
    "\n",
    "\n",
    "* Semantic web  https://en.wikipedia.org/wiki/Semantic_Web\n",
    "* Not yet fully implemented\n",
    "\n"
   ]
  },
  {
   "cell_type": "markdown",
   "id": "85b82cda",
   "metadata": {
    "slideshow": {
     "slide_type": "slide"
    }
   },
   "source": [
    "## ChatGPT and web scraping\n",
    "\n",
    "I did try ChatGPT to extract the usernames\n",
    "\n",
    "![RegBook](https://github.com/cmcneile/COMP5000-2024-lectures/blob/main/webscrapeChatGPT.png?raw=true)\n"
   ]
  },
  {
   "cell_type": "markdown",
   "id": "c4bf8dd6",
   "metadata": {
    "slideshow": {
     "slide_type": "slide"
    }
   },
   "source": [
    "##  Warning\n",
    "\n",
    "* A PhD student I work with gave a presentation at a conference about data science project based on web scraping.\n",
    "* One question was \"is the web scraping legal?\"\n",
    "* He had scraped data from Trustpilot, so that was fine.  https://www.setuserv.com/trustpilot-scraping-service/"
   ]
  },
  {
   "cell_type": "code",
   "execution_count": null,
   "id": "1fbbac92",
   "metadata": {},
   "outputs": [],
   "source": []
  }
 ],
 "metadata": {
  "celltoolbar": "Slideshow",
  "kernelspec": {
   "display_name": "Python 3 (ipykernel)",
   "language": "python",
   "name": "python3"
  },
  "language_info": {
   "codemirror_mode": {
    "name": "ipython",
    "version": 3
   },
   "file_extension": ".py",
   "mimetype": "text/x-python",
   "name": "python",
   "nbconvert_exporter": "python",
   "pygments_lexer": "ipython3",
   "version": "3.12.2"
  }
 },
 "nbformat": 4,
 "nbformat_minor": 5
}
