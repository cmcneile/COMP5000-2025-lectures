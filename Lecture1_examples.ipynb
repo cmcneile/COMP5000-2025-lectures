{
 "cells": [
  {
   "cell_type": "markdown",
   "id": "383dff8f",
   "metadata": {
    "slideshow": {
     "slide_type": "slide"
    }
   },
   "source": [
    "# Example python code for lecture 1 COMP5000\n",
    "\n",
    "\n",
    "* This file is a jupyter notebook. To run it you should download it and run it on your own machine.\n",
    "* Or you can run it on google collab <https://colab.research.google.com> via your google account. This may be slower than running on your own machine\n",
    "* Information on downloading notebooks from the store to your computer https://youtu.be/iXd846m8AjE?si=i3tSNf6opf4_tntl"
   ]
  },
  {
   "cell_type": "markdown",
   "id": "23b7496f",
   "metadata": {
    "slideshow": {
     "slide_type": "slide"
    }
   },
   "source": [
    "###  Some basic python code\n",
    "\n",
    "* Below are some examples of python code\n",
    "* Here we run python in a jupyter notebook where we can mix text and python code\n",
    "* The main page for jupyter notebooks is at <https://jupyter.org/>\n",
    "\n",
    "You can use any other system if you want"
   ]
  },
  {
   "cell_type": "code",
   "execution_count": null,
   "id": "535359b3",
   "metadata": {
    "slideshow": {
     "slide_type": "-"
    }
   },
   "outputs": [],
   "source": [
    "# Traditionally we start by writing to the screen\n",
    "print (\"Hello world\")\n"
   ]
  },
  {
   "cell_type": "code",
   "execution_count": null,
   "id": "a83b30d3",
   "metadata": {
    "slideshow": {
     "slide_type": "slide"
    }
   },
   "outputs": [],
   "source": [
    "a = 2\n",
    "print (\"a = \" , a)\n",
    "a = a + 4\n",
    "print (\"a = \" , a)"
   ]
  },
  {
   "cell_type": "markdown",
   "id": "0482ca96",
   "metadata": {
    "slideshow": {
     "slide_type": "slide"
    }
   },
   "source": [
    "## Data types in python\n",
    "* The basic building blocks of python programs are variables.\n",
    "* Variables have different type (example; integer, float or string)\n",
    "* See <https://www.w3schools.com/python/python_datatypes.asp> for more information about data types"
   ]
  },
  {
   "cell_type": "code",
   "execution_count": null,
   "id": "a7fff929",
   "metadata": {},
   "outputs": [],
   "source": [
    "# x is an integer\n",
    "x = 10\n",
    "# y is a float\n",
    "y = 3.45\n",
    "# z is a string\n",
    "z = \"Hello\"\n",
    "# a is a boolean\n",
    "a = True"
   ]
  },
  {
   "cell_type": "markdown",
   "id": "bdf65075",
   "metadata": {
    "slideshow": {
     "slide_type": "slide"
    }
   },
   "source": [
    "##  Example of a list\n",
    "\n",
    "* Often we need to build collections of variables\n",
    "* Often use a list to store many variables\n",
    "* See https://www.w3schools.com/python/python_lists.asp"
   ]
  },
  {
   "cell_type": "code",
   "execution_count": 1,
   "id": "78c74761",
   "metadata": {},
   "outputs": [
    {
     "name": "stdout",
     "output_type": "stream",
     "text": [
      "The whole list  [23, 14, 6, 8]\n",
      "The first element of the list  23\n",
      "The second element of the list  14\n",
      "The number of items in the list is  4\n",
      "The updated list  [23, 0, 6, 8]\n"
     ]
    }
   ],
   "source": [
    "#  This is example of a list\n",
    "v = [23, 14, 6, 8]\n",
    "\n",
    "print(\"The whole list \" , v)\n",
    "\n",
    "print(\"The first element of the list \" , v[0])\n",
    "print(\"The second element of the list \" , v[1])\n",
    "print(\"The number of items in the list is \" , len(v))\n",
    "v[1] = 0\n",
    "print(\"The updated list \" , v)\n"
   ]
  },
  {
   "cell_type": "markdown",
   "id": "7c91a69e",
   "metadata": {
    "slideshow": {
     "slide_type": "slide"
    }
   },
   "source": [
    "## Example of a tuple\n",
    "* Another way of collection variables is to use a tuple \n",
    "* See  https://www.w3schools.com/python/python_tuples.asp\n",
    "* Tuple is similar to a list, but a tuple can not be changed.\n"
   ]
  },
  {
   "cell_type": "code",
   "execution_count": 2,
   "id": "26911215",
   "metadata": {},
   "outputs": [
    {
     "name": "stdout",
     "output_type": "stream",
     "text": [
      "Tuple =  ('Jane', 'Roger')\n",
      "First element =  Jane\n"
     ]
    }
   ],
   "source": [
    "t = ( \"Jane\" , \"Roger\" , ) \n",
    "print(\"Tuple = \" , t)\n",
    "print(\"First element = \" , t[0])"
   ]
  },
  {
   "cell_type": "markdown",
   "id": "b47efa06",
   "metadata": {
    "slideshow": {
     "slide_type": "slide"
    }
   },
   "source": [
    "## Example of a loop\n",
    "* Often we want to process each element of a list\n",
    "* https://www.w3schools.com/python/python_for_loops.asp"
   ]
  },
  {
   "cell_type": "code",
   "execution_count": 9,
   "id": "2e637b9d",
   "metadata": {},
   "outputs": [
    {
     "name": "stdout",
     "output_type": "stream",
     "text": [
      "23\n",
      "14\n",
      "6\n",
      "8\n"
     ]
    }
   ],
   "source": [
    "v = [23, 14, 6, 8]\n",
    "for v_ in v :\n",
    "    print(v_)"
   ]
  },
  {
   "cell_type": "markdown",
   "id": "e2512f1b",
   "metadata": {
    "slideshow": {
     "slide_type": "slide"
    }
   },
   "source": [
    "## Conditional statement\n",
    "* We need to be able to do things depending on value\n",
    "* See  https://www.w3schools.com/python/python_conditions.asp for more information"
   ]
  },
  {
   "cell_type": "code",
   "execution_count": 11,
   "id": "f14fcb11",
   "metadata": {},
   "outputs": [
    {
     "name": "stdout",
     "output_type": "stream",
     "text": [
      "x is negative\n"
     ]
    }
   ],
   "source": [
    "x = -10\n",
    "if x > 0 :\n",
    "    print(\"x is positive\")\n",
    "else:\n",
    "    print(\"x is negative\")"
   ]
  },
  {
   "cell_type": "markdown",
   "id": "1f407aea",
   "metadata": {
    "slideshow": {
     "slide_type": "slide"
    }
   },
   "source": [
    "##  Example of reading from the keyboard\n",
    "Normally we need some input to start the program"
   ]
  },
  {
   "cell_type": "code",
   "execution_count": 12,
   "id": "822d85ea",
   "metadata": {},
   "outputs": [
    {
     "name": "stdout",
     "output_type": "stream",
     "text": [
      "Enter your nameCraig\n",
      "Hello  Craig\n"
     ]
    }
   ],
   "source": [
    "name = input(\"Enter your name\")\n",
    "print(\"Hello \" , name)"
   ]
  },
  {
   "cell_type": "markdown",
   "id": "a8368663",
   "metadata": {
    "slideshow": {
     "slide_type": "slide"
    }
   },
   "source": [
    "What if we want to input an age in years which is an integer\n",
    "The input command always return a string"
   ]
  },
  {
   "cell_type": "code",
   "execution_count": 14,
   "id": "139a1826",
   "metadata": {},
   "outputs": [
    {
     "name": "stdout",
     "output_type": "stream",
     "text": [
      "enter age58\n",
      "This year you are  58 years old\n"
     ]
    },
    {
     "ename": "TypeError",
     "evalue": "can only concatenate str (not \"int\") to str",
     "output_type": "error",
     "traceback": [
      "\u001b[0;31m---------------------------------------------------------------------------\u001b[0m",
      "\u001b[0;31mTypeError\u001b[0m                                 Traceback (most recent call last)",
      "Cell \u001b[0;32mIn[14], line 6\u001b[0m\n\u001b[1;32m      3\u001b[0m age \u001b[38;5;241m=\u001b[39m age_string\n\u001b[1;32m      5\u001b[0m \u001b[38;5;28mprint\u001b[39m(\u001b[38;5;124m\"\u001b[39m\u001b[38;5;124mThis year you are \u001b[39m\u001b[38;5;124m\"\u001b[39m , age, \u001b[38;5;124m\"\u001b[39m\u001b[38;5;124myears old\u001b[39m\u001b[38;5;124m\"\u001b[39m)\n\u001b[0;32m----> 6\u001b[0m \u001b[38;5;28mprint\u001b[39m(\u001b[38;5;124m\"\u001b[39m\u001b[38;5;124mNext year you will be \u001b[39m\u001b[38;5;124m\"\u001b[39m , age \u001b[38;5;241m+\u001b[39m \u001b[38;5;241m1\u001b[39m, \u001b[38;5;124m\"\u001b[39m\u001b[38;5;124myears old\u001b[39m\u001b[38;5;124m\"\u001b[39m)\n",
      "\u001b[0;31mTypeError\u001b[0m: can only concatenate str (not \"int\") to str"
     ]
    }
   ],
   "source": [
    "age_string = input(\"enter age\")\n",
    "#age = int(age_string)\n",
    "age = age_string\n",
    "\n",
    "print(\"This year you are \" , age, \"years old\")\n",
    "print(\"Next year you will be \" , age + 1, \"years old\")\n",
    "\n",
    "#\"58\""
   ]
  },
  {
   "cell_type": "markdown",
   "id": "8e136aec",
   "metadata": {},
   "source": [
    "The function int(x) converts the string x into an integer"
   ]
  },
  {
   "cell_type": "markdown",
   "id": "0848ede7",
   "metadata": {
    "slideshow": {
     "slide_type": "slide"
    }
   },
   "source": [
    "##  Example of writing a python program\n",
    "* Write a program to compute the mean of 67, 80, 39, 36\n",
    "* We have a calculated (67+ 80+ 39+ 36)/4 = 55.5 as a test case"
   ]
  },
  {
   "cell_type": "code",
   "execution_count": null,
   "id": "d1ff7291",
   "metadata": {},
   "outputs": [],
   "source": [
    "# my attempt at solving the problem\n",
    "v = [ 67 , 80 , 39 , 36  ] \n",
    "m = 0\n",
    "for v_ in v :\n",
    "    m = m + v_\n",
    "    print(v_)\n",
    "m = m / 4  \n",
    "print(m)\n"
   ]
  },
  {
   "cell_type": "markdown",
   "id": "2f8d721b",
   "metadata": {
    "slideshow": {
     "slide_type": "slide"
    }
   },
   "source": [
    "We can improve the code by making it so it will work for any list (rather than a list of 4 elements)"
   ]
  },
  {
   "cell_type": "code",
   "execution_count": null,
   "id": "f7113924",
   "metadata": {},
   "outputs": [],
   "source": [
    "# Second attempt\n",
    "v = [ 67, 80, 39, 36]\n",
    "m = 0\n",
    "for x in v :\n",
    "   m += x\n",
    "m = m / len(v)\n",
    "print(m)\n",
    "print( len(v))"
   ]
  },
  {
   "cell_type": "markdown",
   "id": "4e5cbf29",
   "metadata": {
    "slideshow": {
     "slide_type": "slide"
    }
   },
   "source": [
    "### Third attempt\n",
    "Later we will study numpy  https://www.w3schools.com/python/numpy/numpy_intro.asp"
   ]
  },
  {
   "cell_type": "code",
   "execution_count": null,
   "id": "8d04b5ed",
   "metadata": {},
   "outputs": [],
   "source": [
    "import numpy as np\n",
    "v = [ 67, 80, 39, 36]\n",
    "v = np.array(v)\n",
    "print(\"Mean \" , v.mean())"
   ]
  },
  {
   "cell_type": "markdown",
   "id": "a610794c",
   "metadata": {
    "slideshow": {
     "slide_type": "slide"
    }
   },
   "source": [
    "## Use of AI to write python"
   ]
  },
  {
   "cell_type": "markdown",
   "id": "69720a22",
   "metadata": {
    "slideshow": {
     "slide_type": "slide"
    }
   },
   "source": [
    "You can ask an AI to write the code.\n",
    "For example:  https://openai.com/chatgpt/"
   ]
  },
  {
   "attachments": {
    "ChatGPT.png": {
     "image/png": "[encoded data removed]"
    }
   },
   "cell_type": "markdown",
   "id": "5c323398",
   "metadata": {},
   "source": [
    "\n",
    "\n",
    "\n",
    "![ChatGPT.png](attachment:ChatGPT.png)"
   ]
  },
  {
   "cell_type": "markdown",
   "id": "01bbf8b9",
   "metadata": {
    "slideshow": {
     "slide_type": "slide"
    }
   },
   "source": [
    "## Prompt engineering \n",
    "The text sent to the AI is known as a **prompt**.  \n",
    "\n",
    "You can get different answers if you change the prompt. \n",
    "This is known as prompt engineering  https://en.wikipedia.org/wiki/Prompt_engineering\n",
    "\n",
    "* See the example below where I ask for efficient python code\n",
    "* And another example where I ask for a simple python code, by changing the prompt.\n",
    "\n",
    "You can also ask ChatGPt to explain python code"
   ]
  },
  {
   "cell_type": "markdown",
   "id": "ed674d5e",
   "metadata": {
    "slideshow": {
     "slide_type": "slide"
    }
   },
   "source": [
    "## Another example of writing python code\n",
    "\n",
    "![codeChatGPT](https://github.com/cmcneile/COMP5000-2024-lectures/blob/main/codeB.png?raw=true)\n"
   ]
  },
  {
   "cell_type": "markdown",
   "id": "487010c6",
   "metadata": {},
   "source": [
    "## Example of explaining python code\n",
    "\n",
    "\n",
    "![explainChatGPT](https://github.com/cmcneile/COMP5000-2024-lectures/blob/main/explain.png?raw=true)"
   ]
  },
  {
   "cell_type": "code",
   "execution_count": 15,
   "id": "b321ccf8",
   "metadata": {
    "slideshow": {
     "slide_type": "slide"
    }
   },
   "outputs": [
    {
     "ename": "SyntaxError",
     "evalue": "expected ':' (1668167961.py, line 3)",
     "output_type": "error",
     "traceback": [
      "\u001b[0;36m  Cell \u001b[0;32mIn[15], line 3\u001b[0;36m\u001b[0m\n\u001b[0;31m    for x in [ 2, 3, 4]\u001b[0m\n\u001b[0m                       ^\u001b[0m\n\u001b[0;31mSyntaxError\u001b[0m\u001b[0;31m:\u001b[0m expected ':'\n"
     ]
    }
   ],
   "source": [
    "## some code with errors in it \n",
    "\n",
    "for x in [ 2, 3, 4]\n",
    "print(x)"
   ]
  },
  {
   "cell_type": "markdown",
   "id": "e566eacc",
   "metadata": {
    "slideshow": {
     "slide_type": "slide"
    }
   },
   "source": [
    "## Using ChatGPT to find bugs in python code\n",
    "\n",
    "Essentially add the python fragment to chatGPT\n",
    "\n",
    "![findBUgChatGPT](https://github.com/cmcneile/COMP5000-2024-lectures/blob/main/findBug.png?raw=true)"
   ]
  },
  {
   "cell_type": "markdown",
   "id": "dcfc0894",
   "metadata": {
    "slideshow": {
     "slide_type": "slide"
    }
   },
   "source": [
    "# Resources for using AI to write python code\n",
    "\n",
    "* Tutorial on using ChatGPT to write python code https://realpython.com/chatgpt-coding-mentor-python/\n",
    "* Video using AI with Google Collab  https://youtu.be/fRq5QsIkKFU?si=xZ9RR5E6-dD13RY-\n"
   ]
  },
  {
   "cell_type": "markdown",
   "id": "514c8f41",
   "metadata": {
    "slideshow": {
     "slide_type": "slide"
    }
   },
   "source": [
    "## Google Collab\n",
    "\n",
    "The Googe Collab system (https://colab.research.google.com/)  has an AI in built in:  \n",
    "\n",
    "![Google Collab](https://github.com/cmcneile/COMP5000-2024-lectures/blob/main/GoogleCollab.png?raw=true)"
   ]
  },
  {
   "cell_type": "code",
   "execution_count": null,
   "id": "ddf88359",
   "metadata": {},
   "outputs": [],
   "source": []
  },
  {
   "cell_type": "code",
   "execution_count": null,
   "id": "233436d7",
   "metadata": {},
   "outputs": [],
   "source": []
  }
 ],
 "metadata": {
  "celltoolbar": "Slideshow",
  "kernelspec": {
   "display_name": "Python 3 (ipykernel)",
   "language": "python",
   "name": "python3"
  },
  "language_info": {
   "codemirror_mode": {
    "name": "ipython",
    "version": 3
   },
   "file_extension": ".py",
   "mimetype": "text/x-python",
   "name": "python",
   "nbconvert_exporter": "python",
   "pygments_lexer": "ipython3",
   "version": "3.12.2"
  }
 },
 "nbformat": 4,
 "nbformat_minor": 5
}
